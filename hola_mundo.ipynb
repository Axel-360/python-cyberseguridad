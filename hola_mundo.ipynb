{
 "cells": [
  {
   "cell_type": "markdown",
   "metadata": {},
   "source": [
    "Para imprimir por consola se usa la función `print`"
   ]
  },
  {
   "cell_type": "code",
   "execution_count": 4,
   "metadata": {},
   "outputs": [
    {
     "name": "stdout",
     "output_type": "stream",
     "text": [
      "Hola mundo!!\n"
     ]
    }
   ],
   "source": [
    "print(\"Hola mundo!!\")"
   ]
  },
  {
   "cell_type": "markdown",
   "metadata": {},
   "source": [
    "Para crear variables se escribe el nombre de la variable seguido por el caracter `=` y el valor de la variable."
   ]
  },
  {
   "cell_type": "code",
   "execution_count": 5,
   "metadata": {},
   "outputs": [],
   "source": [
    "saludo = \"Hola mundo!!\""
   ]
  },
  {
   "cell_type": "markdown",
   "metadata": {},
   "source": [
    "Para imprimir una variable se usa la función `print`. Los cuadernos de Jupyter permiten acceder a las variables desde <br>\n",
    "cualquier celda."
   ]
  },
  {
   "cell_type": "code",
   "execution_count": 6,
   "metadata": {},
   "outputs": [
    {
     "name": "stdout",
     "output_type": "stream",
     "text": [
      "Hola mundo!!\n"
     ]
    }
   ],
   "source": [
    "print(saludo)"
   ]
  },
  {
   "cell_type": "markdown",
   "metadata": {},
   "source": [
    "Para imprimir la suma de números por consola."
   ]
  },
  {
   "cell_type": "code",
   "execution_count": 12,
   "metadata": {},
   "outputs": [
    {
     "name": "stdout",
     "output_type": "stream",
     "text": [
      "2\n",
      "4.0\n"
     ]
    }
   ],
   "source": [
    "#Dato Entero\n",
    "print(1+1)\n",
    "#Dato Float \n",
    "print(1.2 + 2.8)\n"
   ]
  },
  {
   "cell_type": "markdown",
   "metadata": {},
   "source": [
    "Los símbolos `<` y `>` se utilizan para comparar números y determinar si uno es menor o mayor que otro."
   ]
  },
  {
   "cell_type": "code",
   "execution_count": 8,
   "metadata": {},
   "outputs": [
    {
     "name": "stdout",
     "output_type": "stream",
     "text": [
      "False\n",
      "True\n"
     ]
    }
   ],
   "source": [
    "print(10<5)\n",
    "print(9<12)"
   ]
  },
  {
   "cell_type": "markdown",
   "metadata": {},
   "source": [
    "Creación de una lista en Python utilizando corchetes `[]`"
   ]
  },
  {
   "cell_type": "code",
   "execution_count": 11,
   "metadata": {},
   "outputs": [
    {
     "name": "stdout",
     "output_type": "stream",
     "text": [
      "['David', 'Ziortza', 'Ricard']\n"
     ]
    }
   ],
   "source": [
    "#Imprimir una lista\n",
    "print([\"David\", \"Ziortza\", \"Ricard\"])"
   ]
  },
  {
   "cell_type": "markdown",
   "metadata": {},
   "source": [
    "# Tipos de datos\n",
    "\n",
    "## Cadena\n",
    "\n",
    "En Python, las **cadenas** son datos que constan de una secuencia ordenada de caracteres. Los caracteres de una cadena pueden incluir letras, números, símbolos y espacios. Estos deben colocarse entre comillas. A continuación, verás una serie de cadenas válidas:\n",
    "\n",
    "- `\"actualizaciones necesarias\"`\n",
    "- `\"20%\"`\n",
    "- `\"5.0\"`\n",
    "- `\"35\"`\n",
    "- `\"**/**/**\"`\n",
    "- `\"\"`\n",
    "\n",
    "**Nota:** El último elemento `(\"\")` que no contiene nada entre comillas, se denomina cadena vacía.\n",
    "\n",
    "Puedes usar la función `print()` para mostrar una cadena. Puedes explorar esto ejecutando este código.\n"
   ]
  },
  {
   "cell_type": "code",
   "execution_count": null,
   "metadata": {},
   "outputs": [],
   "source": [
    "print(\"actualizaciones necesarias\")"
   ]
  },
  {
   "cell_type": "markdown",
   "metadata": {},
   "source": [
    "El código imprime \"`actualizaciones necesarias`\".\n",
    "\n",
    "Las cadenas pueden ir entre comillas dobles (`\"\"`) o simples (`''`). El siguiente código demuestra que el mismo mensaje se imprime cuando la cadena está entre comillas simples:\n"
   ]
  },
  {
   "cell_type": "code",
   "execution_count": null,
   "metadata": {},
   "outputs": [],
   "source": [
    "print('actualizaciones necesarias')"
   ]
  },
  {
   "cell_type": "markdown",
   "metadata": {},
   "source": [
    "**Nota:** Elegir un tipo de comillas y utilizarlo de forma consistente facilita la lectura del código."
   ]
  },
  {
   "cell_type": "markdown",
   "metadata": {},
   "source": [
    "## Lista\n",
    "\n",
    "En Python, una **lista** es una estructura que consta de una serie de datos en forma secuencial. Los elementos de las listas pueden ser de cualquier tipo de datos, como cadenas, enteros, booleanos o, incluso, otras listas. Los elementos de una lista se colocan entre corchetes y cada elemento se separa con una coma. La siguiente lista contiene elementos de varios tipos de datos:\n",
    "\n",
    "- `[12, 36, 54, 1, 7]`\n",
    "- `[\"eraab\", \"arusso\", \"drosas\"]`\n",
    "- `[True, False, True, True]`\n",
    "- `[15, \"approved\", True, 45.5, False]`\n",
    "- `[]`\n",
    "\n",
    "**Nota:** El último elemento `[]`, que no contiene nada entre corchetes, se denomina lista vacía.\n",
    "\n",
    "También puedes usar la función `print()` para mostrar una lista:"
   ]
  },
  {
   "cell_type": "code",
   "execution_count": null,
   "metadata": {},
   "outputs": [],
   "source": [
    "print([12, 36, 54, 1, 7])"
   ]
  },
  {
   "cell_type": "markdown",
   "metadata": {},
   "source": [
    "Esto muestra una lista que contiene los números entero `12`, `36`, `54`, `1`, y `7`."
   ]
  },
  {
   "cell_type": "markdown",
   "metadata": {},
   "source": [
    "## Enteros\n",
    "\n",
    "En Python, los datos enteros son datos formados por un número sin punto decimal. A continuación, verás ejemplos de datos enteros:\n",
    "\n",
    "- `-100` \n",
    "- `-12`\n",
    "- `-1`\n",
    "- `0`\n",
    "- `1`\n",
    "- `20`\n",
    "- `500` \n",
    "\n",
    "Los enteros no se colocan entre comillas. Puedes usar la función `print()` para mostrar un número entero. Cuando ejecutas este código, muestra el número `5`:\n"
   ]
  },
  {
   "cell_type": "code",
   "execution_count": null,
   "metadata": {},
   "outputs": [],
   "source": [
    "print(5)"
   ]
  },
  {
   "cell_type": "markdown",
   "metadata": {},
   "source": [
    "También puedes utilizar la función `print()` para realizar operaciones matemáticas con números enteros. Por ejemplo, este código suma dos enteros:"
   ]
  },
  {
   "cell_type": "code",
   "execution_count": null,
   "metadata": {},
   "outputs": [],
   "source": [
    "print(5 + 2)"
   ]
  },
  {
   "cell_type": "markdown",
   "metadata": {},
   "source": [
    "El resultado es `7`. También, puedes restar, multiplicar o dividir dos números enteros."
   ]
  },
  {
   "cell_type": "markdown",
   "metadata": {},
   "source": [
    "## Float\n",
    "\n",
    "Los **datos float (de punto flotante)** son datos formados por un número con un punto decimal. A continuación, verás ejemplos de datos flotantes: \n",
    "\n",
    "- `-2.2`\n",
    "- `-1.34`\n",
    "- `0.0`\n",
    "- `0.34` \n",
    "\n",
    "Al igual que los datos enteros, los float no se colocan entre comillas. Además, también puedes utilizar la función `print()` para mostrar float o realizar cálculos matemáticos con ellos. Puedes ejecutar el siguiente código para revisar el resultado de este cálculo:\n"
   ]
  },
  {
   "cell_type": "code",
   "execution_count": 13,
   "metadata": {},
   "outputs": [
    {
     "name": "stdout",
     "output_type": "stream",
     "text": [
      "4.0\n"
     ]
    }
   ],
   "source": [
    "print(1.2 + 2.8)"
   ]
  },
  {
   "cell_type": "markdown",
   "metadata": {},
   "source": [
    "El resultado es `4.0`."
   ]
  },
  {
   "cell_type": "markdown",
   "metadata": {},
   "source": [
    "**Nota:** La división de dos valores enteros o dos valores float da como resultado una salida float cuando se utiliza el símbolo `/`:"
   ]
  },
  {
   "cell_type": "code",
   "execution_count": null,
   "metadata": {},
   "outputs": [],
   "source": [
    "print(1/4)\n",
    "print(1.0/4.0)"
   ]
  },
  {
   "cell_type": "markdown",
   "metadata": {},
   "source": [
    "La salida de ambos cálculos es el valor float de `.25`.  \n",
    "\n",
    "Si deseas devolver un valor entero de un cálculo que divide dos números enteros, debes usar el símbolo `//` en su lugar:"
   ]
  },
  {
   "cell_type": "code",
   "execution_count": null,
   "metadata": {},
   "outputs": [],
   "source": [
    "print(1//4)"
   ]
  },
  {
   "cell_type": "markdown",
   "metadata": {},
   "source": [
    "En este caso, la salida es el valor entero `0`, ya que el uso de este símbolo redondea el cálculo de `.25` al entero más cercano."
   ]
  },
  {
   "cell_type": "markdown",
   "metadata": {},
   "source": [
    "## Booleanos\n",
    "\n",
    "Los datos booleanos son datos que solo pueden tener uno de dos valores: `True` (verdadero) o `False` (falso).\n",
    "\n",
    "No debes colocar los valores booleanos entre comillas. Al ejecutar el siguiente código, se muestra el valor booleano `True`:\n"
   ]
  },
  {
   "cell_type": "code",
   "execution_count": null,
   "metadata": {},
   "outputs": [],
   "source": [
    "print(True)"
   ]
  },
  {
   "cell_type": "markdown",
   "metadata": {},
   "source": [
    "También puedes devolver un valor booleano comparando números. Como `9` no es mayor que `10`, este código se evalúa como `False`:"
   ]
  },
  {
   "cell_type": "code",
   "execution_count": null,
   "metadata": {},
   "outputs": [],
   "source": [
    "print(9 > 10)"
   ]
  },
  {
   "cell_type": "markdown",
   "metadata": {},
   "source": [
    "## Tipos de datos adicionales\n",
    "\n",
    "En este texto, exploraremos los tipos de datos cadena, lista, entero, float y booleano, además de otros tipos de datos adicionales como tuplas, diccionarios y conjuntos.\n",
    "\n",
    "### Tupla\n",
    "\n",
    "Una **tupla** consta de un conjunto de datos que no se pueden modificar. Al igual que las listas, las tuplas pueden contener elementos de distintos tipos de datos.\n",
    "\n",
    "Una diferencia entre los datos de tupla y los de lista es que es posible modificar los elementos en una lista, pero no es posible hacerlo en una tupla. Esto podría ser útil en un contexto de ciberseguridad. Por ejemplo, si se almacenan identificadores de software en una tupla para garantizar que no serán alterados, esto puede brindar la certeza de que una lista de control de acceso solo bloqueará el software previsto.\n",
    "\n",
    "La sintaxis de una tupla también es diferente de la de una lista. Una tupla se coloca entre paréntesis en lugar de entre corchetes. A continuación, verás ejemplos de tuplas:\n",
    "\n",
    "- `(\"wjaffrey\", \"arutley\", \"dkot\")`\n",
    "- `(46, 2, 13, 2, 8, 0, 0)`\n",
    "- `(True, False, True, True)`\n",
    "- `(\"wjaffrey\", 13, True)`\n",
    "\n",
    "**Consejo profesional:** Las tuplas son más eficientes en cuanto a memoria que las listas, por lo cual resultan útiles cuando se trabaja con una gran cantidad de datos.\n",
    "\n",
    "### Diccionario\n",
    "\n",
    "Un **diccionario** consiste en una o más parejas clave-valor. Cada clave se asigna a un valor. Entre la clave y el valor se intercalan dos puntos (`:`). Las comas separan las parejas clave-valor de otras parejas clave-valor, y el diccionario se coloca entre llaves (`{}`) \n",
    "\n",
    "Los diccionarios son útiles para almacenar y recuperar datos de forma predecible. Por ejemplo, el siguiente diccionario asigna un nombre de un edificio a un número. El nombre del edificio es el valor y el número es la clave. Después de la clave se colocan dos puntos.\n",
    "\n",
    "```python\n",
    "{ 1: \"East\",\n",
    "  2: \"West\",\n",
    "  3: \"North\",\n",
    "  4: \"South\" }"
   ]
  },
  {
   "cell_type": "markdown",
   "metadata": {},
   "source": [
    "### Conjunto\n",
    "\n",
    "En Python, un conjunto es una colección desordenada de valores únicos. Esto significa que no puede haber dos valores iguales en un conjunto. \n",
    "\n",
    "Los elementos de un conjunto siempre se colocan entre llaves y se separan con una coma. Estos elementos pueden ser de cualquier tipo de datos. Este ejemplo de conjunto contiene cadenas de nombres de usuario:\n",
    "\n",
    "```python\n",
    "{\"jlanksy\", \"drosas\", \"nmason\"}\n"
   ]
  },
  {
   "cell_type": "markdown",
   "metadata": {},
   "source": [
    "# Asigna y reasigna variables en Python\n",
    "\n",
    "Anteriormente, exploraste las variables y cómo asignarlas y reasignarlas en Python. En esta lectura, ampliarás tu comprensión sobre estos temas. También, aprenderás sobre la práctica general de nombrar variables para evitar errores de sintaxis y mejorar la legibilidad del código. \n",
    "\n",
    "## ¿Qué son las variables?\n",
    "\n",
    "En un lenguaje de programación, una **variable** es un contenedor que almacena datos. Es una ubicación de almacenamiento con nombre en la memoria de una computadora que puede contener un valor. Almacena los datos en un tipo de dato específico, como entero, cadena o booleano. El valor que se almacena en una variable puede cambiar. \n",
    "\n",
    "Puedes pensar en las variables como cajas con etiquetas. Aunque cambies el contenido de una caja, su etiqueta permanece igual. De manera similar, cuando cambias el valor almacenado en una variable, el nombre de esta sigue siendo el mismo. \n",
    "\n",
    "Los analistas de seguridad que trabajan en Python utilizarán distintas variables. Algunos ejemplos incluyen variables para intentos de inicio de sección, listas de permisos y direcciones.\n",
    "\n",
    "## Trabajar con variables\n",
    "\n",
    "En Python, es importante saber cómo asignar variables y cómo reasignarlas.\n",
    "\n",
    "### Asignación y reasignación de variables\n",
    "\n",
    "Si deseas crear una variable llamada `username` y asignarle un valor de `\"nzhao\"`, coloca la variable a la izquierda del signo igual y su valor a la derecha:\n",
    "\n",
    "```python\n",
    "# Asigna 'username' \n",
    "username = \"nzhao\"\n",
    "username = \"nzhao\"\n",
    "```\n",
    "\n",
    "Si luego restableces este nombre de usuario a \"`zhao2`\", seguirás refiriéndote a ese contenedor de variable como username. \n",
    "\n",
    "```python\n",
    "# Reasigna 'username' \n",
    "username = \"zhao2\"\n",
    "```\n",
    "\n",
    "Aunque el contenido haya cambiado de \"nzhao\" a \"zhao2\", la variable `username` seguirá siendo la misma.\n",
    "\n",
    "**Nota:** Debes colocar `\"nzhao\"` y `\"zhao2\"` entre comillas porque son cadenas. Python asigna automáticamente a una variable su tipo de datos cuando se ejecuta. Por ejemplo, cuando la variable `username` contiene la cadena `\"nzhao\"`, se le asigna un tipo de datos de cadena.\n",
    "\n",
    "### Asignar variables a otras variables\n",
    "\n",
    "Mediante un proceso similar, también puedes asignar variables a otras variables. En el siguiente ejemplo, la variable `username` se asigna a una nueva variable `old_username`: \n",
    "\n",
    "```python\n",
    "# Asignar una variable a otra variable\n",
    "username = \"nzhao\"\n",
    "old_username = username\n",
    "```\n",
    "\n",
    "Como `username` contiene el valor de cadena de `\"nzhao\"` y `old_username` contiene el valor de `username`, `old_username` ahora contiene el valor de `\"nzhao\"`.\n",
    "\n",
    "### Combinar todo\n",
    "\n",
    "El siguiente código demuestra cómo se puede actualizar un nombre de usuario. A la variable `username` se le asigna un valor inicial, el cual luego se almacena en una segunda variable llamada `old_username`. Después de esto, a la variable `username` se le reasigna un nuevo valor. Puedes ejecutar este código para obtener un mensaje sobre el nombre de usuario anterior y el nombre de usuario actual:\n",
    "\n",
    "\n",
    "\n",
    "\n",
    "\n",
    "\n",
    "\n"
   ]
  },
  {
   "cell_type": "code",
   "execution_count": null,
   "metadata": {},
   "outputs": [],
   "source": [
    "username = \"nzhao\"\n",
    "old_username = username\n",
    "username = \"zhao2\"\n",
    "print(\"Previous username:\", old_username)\n",
    "print(\"Current username:\", username)"
   ]
  },
  {
   "cell_type": "markdown",
   "metadata": {},
   "source": [
    "## Prácticas recomendadas para nombrar variables\n",
    "\n",
    "Puedes nombrar una variable casi como quieras, pero hay algunas pautas que debes seguir para asegurar una sintaxis correcta y evitar errores:\n",
    "\n",
    "- Usa solo letras, números y guiones bajos en los nombres de las variables. Ejemplos válidos: `date_3`, `username`, `interval2`\n",
    "\n",
    "- Comienza el nombre de una variable con una letra o un guion bajo. No empieces con un número. Ejemplos válidos: `time`, `_login`\n",
    "\n",
    "- Recuerda que los nombres de variables en Python distinguen entre mayúsculas y minúsculas. Todas estas son variables diferentes: `time`, `Time`, `TIME`, `timE`.\n",
    "\n",
    "- No utilices las palabras clave o funciones integradas de Python para nombres de variables. Por ejemplo, las variables no deben llamarse `True`, `False`, o `if`.\n",
    "\n",
    "Además, debes seguir estas pautas de estilo para que tu código sea más fácil de leer y comprender:\n",
    "\n",
    "- Separa dos o más palabras con guiones bajos. Ejemplos válidos: `login_attempts`, `invalid_user`, `status_update`\n",
    "\n",
    "- Evita variables con nombres similares. Estas variables podrían confundirse fácilmente entre sí: `start_time`, `starting_time`, `time_starting`.\n",
    "\n",
    "- Evita nombres innecesariamente largos para las variables. Por ejemplo, no des a las variables nombres como `variable_that_equals_3`.\n",
    "\n",
    "- Los nombres deben describir los datos y no ser palabras aleatorias. Ejemplos válidos: `num_login_attempts`, `device_id`, `invalid_usernames`\n",
    "\n",
    "**Nota:** Se recomienda usar guiones bajos para separar varias palabras en las variables, pero otra convención que puedes encontrar es escribir con mayúscula la primera letra de cada palabra, excepto la primera palabra. Ejemplo: `loginAttempt`\n"
   ]
  },
  {
   "cell_type": "markdown",
   "metadata": {},
   "source": [
    "# Condicionales en Python\n",
    "\n",
    "Anteriormente, exploraste las sentencias condicionales y su utilidad en la automatización de tareas en Python. Hasta ahora, te centraste en las palabras clave `if` y `else`. En esta lección, las repasarás y aprenderás otra palabra clave, `elif`. También, aprenderás cómo puedes aplicar los operadores `and`, `or`, y `not` a tus condiciones.\n",
    "\n",
    "## Cómo funcionan las sentencias condicionales\n",
    "\n",
    "Una *sentencia condicional* es una sentencia que evalúa código para determinar si cumple con un conjunto específico de condiciones. Cuando una condición se cumple, se evalúa como un valor booleano `True` (verdadero) y realiza las acciones especificadas. Cuando la condición no se cumple, se evalúa como un valor booleano `False` (falso) y no realiza las acciones especificadas.\n",
    "\n",
    "En las sentencias condicionales, la condición suele basarse en la comparación de dos valores. Esta tabla resume los operadores de comparación más comunes utilizados para comparar valores numéricos.\n",
    "\n",
    "| Operador | Significado    |\n",
    "|----------|----------------|\n",
    "| >        | mayor que      |\n",
    "| <        | menor que      |\n",
    "| >=       | mayor o igual que |\n",
    "| <=       | menor o igual que |\n",
    "| ==       | igual que      |\n",
    "| !=       | no igual que   |\n",
    "\n",
    "*Nota:* Los operadores igual a (`==`) y no igual que (`!=`) también se usan habitualmente para comparar datos de cadena.\n",
    "\n",
    "\n",
    "## Sentencias if\n",
    "\n",
    "La palabra clave `if` inicia una sentencia condicional. Es un componente necesario de cualquier sentencia condicional. En el siguiente ejemplo, `if` comienza una sentencia que le indica a Python que imprima el mensaje \"OK\" cuando el código de estado de la respuesta HTTP sea igual a 200:\n",
    "\n",
    "```python\n",
    "if status == 200:\n",
    "    print(\"OK\")\n",
    "```\n",
    "Este código consiste en un encabezado y un cuerpo.\n",
    "\n",
    "### Encabezado de una sentencia if\n",
    "\n",
    "La primera línea de este código es el encabezado. En el encabezado de una sentencia `if`, la palabra clave `if` va seguida de la condición. Aquí, la condición es que la variable `status` sea igual a un valor de 200. La condición se puede colocar entre paréntesis:\n",
    "\n",
    "```python\n",
    "if (status == 200):\n",
    "    print(\"OK\")\n",
    "```\n",
    "En casos como este, es opcional colocar paréntesis alrededor de las condiciones en Python. Puedes optar por incluirlos si te ayuda a mejorar la legibilidad del código. Sin embargo, esta condición será procesada de la misma manera si se escribe sin paréntesis. \n",
    "\n",
    "En otras situaciones, debido a que Python evalúa primero las condiciones entre paréntesis, estos pueden afectar la manera en que Python procesa las condiciones. Leerás más sobre estos casos en la sección de esta lectura sobre `not`.\n",
    "\n",
    "*Nota:* Siempre debes colocar dos puntos (`:`) al final del encabezado. Sin esta sintaxis, el código generará un error.\n",
    "\n",
    "### Cuerpo de una sentencia if\n",
    "\n",
    "Después del encabezado de una sentencia `if`, viene el cuerpo de la sentencia `if`. Esto le indica a Python qué acción o acciones realizar cuando la condición se evalúa como `True`. En este ejemplo, hay solo una acción, que consiste en imprimir \"OK\" en la pantalla. En otros casos, puede haber más líneas de código con acciones adicionales.\n",
    "\n",
    "*Nota:* Para que el cuerpo de la sentencia `if` se ejecute según lo previsto, debe tener más sangría que el encabezado. Además, si hay varias líneas de código dentro del cuerpo, todas deben tener la misma sangría. \n",
    "\n",
    "## Condicionales continuos con else y elif\n",
    "\n",
    "En el ejemplo anterior, si el código de respuesta de estado HTTP no fuera igual a `200`, la condición se evaluaría como `False` y Python continuaría con el resto del programa. Sin embargo, también es posible especificar acciones alternativas con `else` y `elif`.\n",
    "\n",
    "### Sentencias else\n",
    "\n",
    "La palabra clave `else` precede a una sección de código que solo se evalúa cuando todas las condiciones que la preceden dentro de la sentencia condicional se evalúan como `False`.\n",
    "\n",
    "En el siguiente ejemplo, cuando el código de estado de respuesta HTTP no es igual a `200`, imprime un mensaje alternativo de `\"check other status\"`:\n",
    "\n",
    "```python\n",
    "if status == 200:\n",
    "    print(\"OK\")\n",
    "else:\n",
    "    print(\"check other status\")\n",
    "```\n",
    "\n",
    "*Nota:* Al igual que con `if`, se requieren dos puntos (`:`) después de `else`, y el cuerpo que sigue al encabezado `else` está sangrado (o sea, tiene sangría).\n",
    "\n",
    "### Sentencias elif\n",
    "\n",
    "En ocasiones, es posible que tengas varias acciones alternativas que dependen de nuevas condiciones. En ese caso, puedes usar `elif`. La palabra clave `elif` precede a una condición que solo se evalúa cuando las condiciones anteriores se evalúan como `False`. A diferencia de `else`, puede haber varias sentencias `elif` después de `if`.\n",
    "\n",
    "Por ejemplo, puedes optar por imprimir un mensaje si el código de estado de respuesta HTTP es `200`, un mensaje si es `400` y otro si es `500`. El siguiente código demuestra cómo puedes utilizar `elif` para esto: \n",
    "\n",
    "```python\n",
    "if status == 200:\n",
    "    print(\"OK\")\n",
    "elif status == 400:\n",
    "    print(\"Bad Request\")\n",
    "elif status == 500:\n",
    "    print(\"Internal Server Error\")\n",
    "```\n",
    "Python verificará primero si el valor de `status` es `200`, y si se evalúa como `False`, pasará a la primera sentencia `elif`. Allí, verificará si el valor de `status` es `400`. Si es `True`, imprimirá \"Bad Request\", pero si es `False`, pasará a la siguiente sentencia `elif`.\n",
    "\n",
    "Si deseas que el código imprima otro mensaje cuando todas las condiciones se evalúen como `False`, puedes incorporar `else` después del último `elif`. En este ejemplo, si llega a la sentencia `else`, imprime un mensaje para verificar el estado:\n",
    "\n",
    "```python\n",
    "if status == 200:\n",
    "    print(\"OK\")\n",
    "elif status == 400:\n",
    "    print(\"Bad Request\")\n",
    "elif status == 500:\n",
    "    print(\"Internal Server Error\")\n",
    "else:\n",
    "    print(\"check other status\")\n",
    "```\n",
    "\n",
    "Al igual que con `if` y `else`, es importante colocar dos puntos (`:`) después del encabezado `elif` y sangrar el código que sigue a este encabezado.\n",
    "\n",
    "*Nota:* Python procesa varias sentencias `elif` de manera diferente a varias sentencias `if`. Cuando llega a una sentencia `elif` que se evalúa como `True`, no verificará las siguientes sentencias `elif`. Por otro lado, Python ejecutará todas las sentencias `if`.\n",
    "\n",
    "## Operadores lógicos para múltiples condiciones\n",
    "\n",
    "En algunos casos, puedes optar por que Python realice una acción basada en una condición más compleja. Podrías requerir que dos condiciones se evalúen como `True`. O bien, que solo una de las dos condiciones se evalúe como `True`. O puedes optar por que Python ejecute una acción cuando una condición se evalúe como `False`. En estos casos se pueden utilizar los operadores `and`, `or`, y `not`.\n",
    "\n",
    "### and\n",
    "\n",
    "El operador `and` requiere que las dos condiciones a ambos lados del operador se evalúen como `True`. Por ejemplo, todos los códigos de estado de respuesta HTTP entre `200` y `226` se refieren a respuestas correctas. Puedes usar `and` para unir una condición que sea mayor o igual a `200` con otra condición que sea menor o igual a `226`:\n",
    "\n",
    "```python\n",
    "if status >= 200 and status <= 226:\n",
    "    print(\"successful response\")\n",
    "```\n",
    "\n",
    "Si ambas condiciones son `True`, se imprimirá el mensaje \"successful response\".\n",
    "\n",
    "### or\n",
    "\n",
    "El operador `or` solo requiere que una de las condiciones a ambos lados del operador se evalúe como `True`. Por ejemplo, tanto un código de estado `100` como un código de estado `102` son respuestas informativas. Usando `or`, podrías pedirle a Python que imprima un mensaje de `\"informational response\"` cuando el código sea `100` o `102`:\n",
    "\n",
    "```python\n",
    "if status == 100 or status == 102:\n",
    "    print(\"informational response\")\n",
    "```\n",
    "\n",
    "Solo es necesario que se cumpla una de estas condiciones para que Python imprima el mensaje.\n",
    "\n",
    "### not\n",
    "\n",
    "El operador `not` niega una condición dada de forma que se evalúe a `False` si la condición es `True` y a `True` si es `False`. Por ejemplo, si deseas indicar que Python debe verificar el código de estado cuando se trata de algo fuera del rango correcto, puedes usar `not`:\n",
    "\n",
    "```python\n",
    "if not(status >= 200 and status <= 226):\n",
    "    print(\"check status\")\n",
    "```\n",
    "Python primero verifica si el valor de `status` es mayor o igual a `200` y menor o igual a `226`, y luego, debido al operador `not`, lo invierte. Esto significa que imprimirá el mensaje si `status` es menor que `200` o mayor que `226`.\n",
    "\n",
    "**Nota:** En este caso, los paréntesis son necesarios para que el código aplique `not` a ambas condiciones. Python evaluará primero las condiciones dentro de los paréntesis. Esto significa que primero evaluará las condiciones a cada lado del operador `and` y luego aplicará `not` a ambas.\n",
    "\n",
    "\n",
    "\n",
    "\n"
   ]
  },
  {
   "cell_type": "markdown",
   "metadata": {},
   "source": [
    "# Los bucles en Python\n",
    "\n",
    "Anteriormente, exploraste las sentencias iterativas. Una sentencia iterativa es un código que ejecuta repetidamente una serie de instrucciones. Dependiendo de los criterios, estas se ejecutan cero o más veces. Hemos iterado a través de código utilizando bucles `for` y bucles `while`. En esta lectura, repasarás la sintaxis de los bucles. Luego, aprenderás a utilizar las palabras clave `break` y `continue` para controlar la ejecución de los bucles. \n",
    "\n",
    "## Bucles for \n",
    "\n",
    "Si necesitas iterar a través de una secuencia especificada, debes usar un bucle `for`. \n",
    "\n",
    "El siguiente bucle `for` itera a través de una secuencia de nombres de usuario. Puedes ejecutarlo para observar la salida:\n"
   ]
  },
  {
   "cell_type": "code",
   "execution_count": null,
   "metadata": {},
   "outputs": [],
   "source": [
    "for i in [\"elarson\", \"bmoreno\", \"tshah\", \"sgilmore\"]:\n",
    "    print(i)"
   ]
  },
  {
   "cell_type": "markdown",
   "metadata": {},
   "source": [
    "La primera línea de este código es el encabezado del bucle. Allí, la palabra clave `for` indica el inicio de un bucle `for`. Justo después de `for`, viene la variable de bucle. La variable de bucle se utiliza para controlar las iteraciones de un bucle. En los bucles `for`, la variable de bucle forma parte del encabezado. En este ejemplo, la variable de bucle es `i`. \n",
    "\n",
    "El resto del encabezado del bucle indica la secuencia a iterar. El operador `in` aparece antes de la secuencia para indicar a Python que ejecute el bucle para cada elemento de la secuencia. En este ejemplo, la secuencia es la lista de nombres de usuario. El encabezado del bucle debe terminar con dos puntos (`:`).\n",
    "\n",
    "La segunda línea de este ejemplo de bucle `for` es el cuerpo del bucle. El cuerpo del bucle `for` puede tener varias líneas de código. En el cuerpo, se indica lo que el bucle debe hacer en cada iteración. En este caso, es `print(i)`, o en otras palabras, mostrar el valor actual de la variable de bucle durante esa iteración del bucle. Para que Python ejecute el código correctamente, el cuerpo del bucle debe tener más sangría que el encabezado del bucle.\n",
    "\n",
    "**Nota:** Cuando se usa en un bucle `for`, el operador `in` precede a la secuencia que iterará el bucle `for`. Cuando se utiliza en una sentencia condicional, el operador `in` se usa para evaluar si un objeto forma parte de una secuencia. El ejemplo `if \"elarson\" in [\"tshah\", \"bmoreno\", \"elarson\"]` se evalúa como `True` porque \"elarson\" forma parte de la secuencia que sigue a `in`.\n",
    "\n",
    "## Recorrer en bucle una lista\n",
    "\n",
    "El uso de bucles `for` en Python permite iterar fácilmente a través de listas, como una lista de activos informáticos. En el siguiente bucle `for`, `asset` es la variable del bucle y otra variable, `computer_assets`, es la secuencia. La variable `computer_assets` almacena una lista. Esto significa que en la primera iteración el valor de `asset` será el primer elemento de esa lista, y en la segunda iteración, el valor de `asset` será el segundo elemento de esa lista. Puedes ejecutar el código para observar qué pasa: \n"
   ]
  },
  {
   "cell_type": "code",
   "execution_count": null,
   "metadata": {},
   "outputs": [],
   "source": [
    "computer_assets = [\"laptop1\", \"desktop20\", \"smartphone03\"]\n",
    "for asset in computer_assets:\n",
    "    print(asset)"
   ]
  },
  {
   "cell_type": "markdown",
   "metadata": {},
   "source": [
    "**Nota:** También es posible hacer un bucle a través de una cadena. Esto devolverá cada carácter uno por uno. Puedes observarlo ejecutando el siguiente bloque de código que itera a través de la cadena \"security\":"
   ]
  },
  {
   "cell_type": "code",
   "execution_count": null,
   "metadata": {},
   "outputs": [],
   "source": [
    "string = \"security\"\n",
    "for character in string:\n",
    "    print(character)"
   ]
  },
  {
   "cell_type": "markdown",
   "metadata": {},
   "source": [
    "Uso de `range()`\n",
    "\n",
    "Otra forma de iterar a través de un bucle `for` es basándose en una secuencia de números, y esto se puede realizar con `range()`. La función `range()` genera una secuencia de números. Acepta entradas para el punto de inicio, el punto de parada y el incremento entre paréntesis. Por ejemplo, el siguiente código indica que la secuencia de números comience en 0, se detenga en 5 y se incremente cada vez en 1:\n",
    "\n",
    "```python\n",
    "range(0, 5, 1)\n",
    "```\n",
    "**Nota:** El punto de inicio es inclusivo, lo que significa que el `0` se incluirá en la secuencia de números, pero el punto de parada es exclusivo, lo que significa que el `5` se excluirá de la secuencia. Concluirá un entero antes del punto de parada.\n",
    "\n",
    "Cuando ejecutes este código, podrás observar cómo el `5` queda excluido de la secuencia:"
   ]
  },
  {
   "cell_type": "code",
   "execution_count": null,
   "metadata": {},
   "outputs": [],
   "source": [
    "for i in range(0, 5, 1):\n",
    "    print(i)"
   ]
  },
  {
   "cell_type": "markdown",
   "metadata": {},
   "source": [
    "Debes considerar que es necesario incluir el punto de parada, pero si el punto de inicio es el valor predeterminado de `0` y el incremento es el valor predeterminado de `1`, no es necesario especificarlos en el código. Si ejecutas este código, obtendrás los mismos resultados:"
   ]
  },
  {
   "cell_type": "code",
   "execution_count": null,
   "metadata": {},
   "outputs": [],
   "source": [
    "for i in range(5):\n",
    "    print(i)"
   ]
  },
  {
   "cell_type": "markdown",
   "metadata": {},
   "source": [
    "**Nota:** Si el punto de inicio es distinto de `0` o el incremento es distinto de `1`, deben especificarse.\n",
    "\n",
    "## Bucles while\n",
    "\n",
    "Si deseas que un bucle itere en función de una condición, debes usar un bucle `while`. Mientras la condición sea `True`, el bucle continúa, pero cuando se evalúa como `False`, se sale del bucle `while`. El siguiente bucle `while` continúa mientras la condición de que `i < 5` sea `True`:\n"
   ]
  },
  {
   "cell_type": "code",
   "execution_count": null,
   "metadata": {},
   "outputs": [],
   "source": [
    "i = 1\n",
    "while i < 5:\n",
    "    print(i)\n",
    "    i = i + 1"
   ]
  },
  {
   "cell_type": "markdown",
   "metadata": {},
   "source": [
    "En este bucle `while`, el encabezado del bucle es la línea `while i < 5:`. A diferencia de los bucles `for`, el valor de una variable de bucle utilizada para controlar las iteraciones no se asigna dentro del encabezado del bucle en un bucle `while`. En su lugar, se asigna fuera del bucle. En este ejemplo, a `i` se le asigna un valor inicial de `1` en una línea que precede al bucle.\n",
    "\n",
    "La palabra clave `while` indica el comienzo de un bucle `while`. Después de esto, el encabezado del bucle indica la condición que determina cuándo termina el bucle. Esta condición utiliza los mismos operadores de comparación que las sentencias condicionales. Al igual que en un bucle `for`, el encabezado de un bucle `while` debe terminar con dos puntos (`:`).\n",
    "\n",
    "El cuerpo de un bucle `while` indica las acciones a realizar en cada iteración. En este ejemplo, es mostrar el valor de `i` e incrementar el valor de `i` en `1`. Para que el valor de `i` cambie con cada iteración, es necesario indicarlo en el cuerpo del bucle `while`. En este ejemplo, el bucle itera cuatro veces hasta que alcanza un valor de `5`.\n",
    "\n",
    "### Números enteros en la condición del bucle\n",
    "\n",
    "Usualmente, como se acaba de demostrar, la condición del bucle se basa en valores enteros. Por ejemplo, puedes optar por permitir que un usuario inicie sesión siempre y cuando lo haya intentado menos de cinco veces. Entonces, tu variable de bucle, `login_attempts`, se puede inicializar a `0`, incrementar en `1` en el bucle, y la condición del bucle puede especificar iterar solo cuando la variable sea menor que `5`. Puedes ejecutar el código a continuación y revisar el recuento de cada intento:\n"
   ]
  },
  {
   "cell_type": "code",
   "execution_count": null,
   "metadata": {},
   "outputs": [],
   "source": [
    "login_attempts = 0\n",
    "while login_attempts < 5:\n",
    "    print(\"Login attempts:\", login_attempts)\n",
    "    login_attempts = login_attempts + 1"
   ]
  },
  {
   "cell_type": "markdown",
   "metadata": {},
   "source": [
    "El valor de `login_attempts` pasó de `0` a `4` antes de que la condición del bucle se evaluara a `False`. Por lo tanto, los valores de `0` a `4` se imprimen, y el valor `5` no se imprime.\n",
    "\n",
    "### Valores booleanos en la condición del bucle\n",
    "\n",
    "Las condiciones en los bucles `while` también pueden depender de otros tipos de datos, incluidas las comparaciones de datos booleanos. En estas, la condición del bucle puede comprobar si una variable del bucle es igual a un valor como `True` o `False`. El bucle itera un número indeterminado de veces hasta que la condición booleana deja de ser `True`. \n",
    "\n",
    "En el siguiente ejemplo, se usa un valor booleano para salir de un bucle cuando un usuario ha realizado cinco intentos de inicio de sesión. Una variable llamada `count` mantiene un registro de cada intento de inicio de sesión y cambia la variable `login_status` a `False` cuando `count` es igual a `4`. (Incrementar `count` de `0` a `4` representa cinco intentos de inicio de sesión). Dado que la condición `while` solo itera cuando `login_status` es `True`, saldrá del bucle. Puedes ejecutar esto para explorar esta salida:\n"
   ]
  },
  {
   "cell_type": "code",
   "execution_count": null,
   "metadata": {},
   "outputs": [],
   "source": [
    "count = 0\n",
    "login_status = True\n",
    "while login_status == True:\n",
    "    print(\"Try again.\")\n",
    "    count = count + 1\n",
    "    if count == 4:\n",
    "        login_status = False"
   ]
  },
  {
   "cell_type": "markdown",
   "metadata": {},
   "source": [
    "El código imprime un mensaje para intentarlo de nuevo cuatro veces, pero sale del bucle una vez que `login_status` se establece en `False`.\n",
    "\n",
    "## Gestión de bucles\n",
    "\n",
    "Puedes usar las palabras clave `break` y `continue` para tener un control adicional sobre las iteraciones del bucle. Ambas se incorporan a una sentencia condicional dentro del cuerpo del bucle. Se pueden insertar para que se ejecuten cuando la condición en una sentencia `if` es `True`. La palabra clave `break` se utiliza para salir de un bucle. Asimismo, la palabra clave `continue` se emplea para omitir una iteración y continuar con la siguiente. \n",
    "\n",
    "### break\n",
    "\n",
    "Cuando quieras salir de un bucle `for` o `while` basándote en que una condición particular de una sentencia `if` sea `True`, puedes escribir una sentencia condicional en el cuerpo del bucle e incluir la palabra clave `break` en el cuerpo de la condicional. \n",
    "\n",
    "El siguiente ejemplo lo demuestra. La sentencia condicional con `break` indica a Python que salga del bucle `for` si el valor de la variable `asset` del bucle es igual a \"desktop20\". En la segunda iteración, esta condición se evalúa como `True`. Puedes ejecutar este código para observar esto en la salida:\n"
   ]
  },
  {
   "cell_type": "code",
   "execution_count": null,
   "metadata": {},
   "outputs": [],
   "source": [
    "computer_assets = [\"laptop1\", \"desktop20\", \"smartphone03\"]\n",
    "for asset in computer_assets:\n",
    "    if asset == \"desktop20\":\n",
    "        break\n",
    "    print(asset)"
   ]
  },
  {
   "cell_type": "markdown",
   "metadata": {},
   "source": [
    "Como era de esperar, los valores de `\"desktop20\"` y `\"smartphone03\"` no se imprimen porque el bucle se rompe en la segunda iteración.\n",
    "\n",
    "## continue\n",
    "\n",
    "Cuando desees omitir una iteración basándote en que cierta condición de una sentencia `if` sea `True`, puedes agregar la palabra clave `continue` en el cuerpo de una sentencia condicional dentro del bucle. En este ejemplo, `continue` se ejecutará cuando la variable del bucle `asset` sea igual a `\"desktop20\"`. Puedes ejecutar este código para observar cómo difiere esta salida del ejemplo anterior con `break`:\n"
   ]
  },
  {
   "cell_type": "code",
   "execution_count": null,
   "metadata": {},
   "outputs": [],
   "source": [
    "computer_assets = [\"laptop1\", \"desktop20\", \"smartphone03\"]\n",
    "for asset in computer_assets:\n",
    "    if asset == \"desktop20\":\n",
    "        continue\n",
    "    print(asset)"
   ]
  },
  {
   "cell_type": "markdown",
   "metadata": {},
   "source": [
    "El valor `\"desktop20\"` en la segunda iteración no se imprime. Sin embargo, en este caso, el bucle continúa a la siguiente iteración y se imprime `\"smartphone03\"`. \n",
    "\n",
    "Bucles infinitos\n",
    "Un bucle que no se detiene se denomina bucle infinito. Si lo creas, debes presionar `CTRL-C` O `CTRL-Z` en tu teclado para detenerlo. Es posible que necesites hacer esto al ejecutar un servicio que procesa datos constantemente, como un servidor web."
   ]
  },
  {
   "cell_type": "markdown",
   "metadata": {},
   "source": [
    "# Funciones de Python en ciberseguridad\n",
    "\n",
    "Anteriormente, exploraste cómo definir y llamar a tus propias funciones. En esta lectura, revisarás lo aprendido sobre funciones y examinarás cómo estas pueden mejorar la eficiencia en un entorno de ciberseguridad.\n",
    "\n",
    "### Funciones en ciberseguridad\n",
    "\n",
    "Una **función** es una sección de código que puede ser reutilizada en un programa. En Python, las funciones juegan un rol importante porque permiten automatizar partes repetitivas del código. En el ámbito de la ciberseguridad, es común que se implementen procesos que se repiten con frecuencia.\n",
    "\n",
    "Al trabajar con registros de seguridad, te enfrentarás con frecuencia a tareas que debes repetir. Por ejemplo, si tu responsabilidad es identificar actividad de inicio de sesión maliciosa basada en intentos fallidos, es posible que necesites repetir este proceso para varios registros.\n",
    "\n",
    "Para abordar esta situación, puedes definir una función que tome un registro como entrada y devuelva todos los inicios de sesión potencialmente maliciosos. Esto facilitaría la aplicación de esta función en diferentes registros.\n",
    "\n",
    "### Definición de una función\n",
    "\n",
    "En Python, trabajarás con funciones integradas y funciones definidas por el usuario. Las **funciones integradas** son aquellas que están incorporadas en Python y, por lo tanto, se las puede llamar directamente. La función `print()` es un ejemplo de una función integrada.\n",
    "\n",
    "Las funciones definidas por el usuario son aquellas que los programadores diseñan para satisfacer necesidades específicas. Para definir una función, es necesario incluir su encabezado y su cuerpo.\n",
    "\n",
    "#### Encabezado de función\n",
    "\n",
    "El encabezado de la función es aquello que le indica a Python que estás comenzando a definir una función. Por ejemplo, si quieres definir una función que muestre el mensaje `\"investigate activity\"`, puedes incluir el siguiente encabezado de función:\n",
    "\n",
    "```python\n",
    "def display_investigation_message():\n",
    "```\n",
    "\n",
    "La palabra clave `def` se coloca antes de un nombre de función para definirla. En este caso, el nombre de la función es `display_investigation_message`.\n",
    "\n",
    "Los paréntesis que siguen al nombre de la función y los dos puntos (`:`) al final del encabezado también constituyen partes esenciales de la sintaxis.\n",
    "\n",
    "**Consejo profesional:** Al nombrar una función, elige un nombre que indique claramente qué hace. Esto hará que te resulte más fácil de recordar cuando la llames más adelante.\n",
    "\n",
    "#### Cuerpo de la función\n",
    "\n",
    "El cuerpo de la función es un bloque de código con sangría que viene después del encabezado y define lo que hace dicha función. La sangría es muy importante a la hora de escribir una función, ya que separa la definición del resto del código.\n",
    "\n",
    "Para agregar un cuerpo a tu definición de la función `display_investigation_message()`, incluye una línea con sangría con la función `print()`. La definición de tu función pasa a ser la siguiente:\n",
    "\n",
    "```python\n",
    "def display_investigation_message():\n",
    "    print(\"investigate activity\")\n",
    "```\n",
    "### Cómo llamar a una función\n",
    "\n",
    "Después de definir una función, puedes usarla en tu código tantas veces como la necesites. Cuando utilizas una función después de definirla, se dice que estás llamando (o invocando) a dicha función. Para hacerlo, escribe su nombre seguido de paréntesis. A fin de llamar a la función que definiste antes, podrás utilizar el siguiente código:\n",
    "\n",
    "```python\n",
    "display_investigation_message()\n",
    "```\n",
    "\n",
    "Si bien utilizarás funciones de formas más complejas a medida que vayas ampliando tus conocimientos, el siguiente código proporciona una introducción sobre cómo la función `display_investigation_message()` puede formar parte de una sección más extensa de código. Puedes ejecutarlo y analizar el resultado:\n",
    "\n"
   ]
  },
  {
   "cell_type": "code",
   "execution_count": null,
   "metadata": {},
   "outputs": [],
   "source": [
    "def display_investigation_message():\n",
    "    print(\"investigate activity\")\n",
    "application_status = \"potential concern\"\n",
    "email_status = \"okay\"\n",
    "if application_status == \"potential concern\":\n",
    "    print(\"application_log:\")\n",
    "    display_investigation_message()\n",
    "if email_status == \"potential concern\":\n",
    "    print(\"email log:\")\n",
    "    display_investigation_message()"
   ]
  },
  {
   "cell_type": "markdown",
   "metadata": {},
   "source": [
    "La función `display_investigation_message()` se usa dos veces en el código. Imprimirá mensajes de \"investigate activity\" sobre dos registros diferentes cuando las condiciones especificadas se evalúen como `True` (verdaderas). En este ejemplo, solo la primera sentencia condicional se evalúa como `True`, por lo que el mensaje se imprime una vez.\n",
    "\n",
    "Este código llama a la función desde los condicionales, pero podrías llamar a una función desde una variedad de ubicaciones dentro del código.\n",
    "\n",
    "**Nota:** Al llamar a una función dentro del cuerpo de su definición de función, puede crearse un bucle infinito. Esto sucede cuando no se combina con la lógica que detiene la llamada a la función y se cumplen ciertas condiciones. Por ejemplo, en la siguiente definición de función, después de invocar por primera vez a `func1()`, esta continuará llamándose a sí misma y creando un bucle infinito: \n",
    "\n",
    "```python\n",
    "def func1():\n",
    "    func1()\n",
    "```\n"
   ]
  },
  {
   "cell_type": "markdown",
   "metadata": {},
   "source": [
    "# Funciones y variables\n",
    "\n",
    "Antes, te enfocaste en trabajar con múltiples parámetros y argumentos en funciones, así como en obtener información a partir de funciones. En esta lectura, repasarás estos conceptos. También se te presentará un nuevo concepto: el de variables globales y locales.\n",
    "\n",
    "## Trabajar con variables en funciones\n",
    "\n",
    "Trabajar con variables en funciones requiere de comprender tanto de los parámetros como de los argumentos. Ambos términos tienen usos distintos al referirse a variables en una función. Además, si deseas que la función arroje el resultado, primero debes familiarizarte con las sentencias `return`.\n",
    "\n",
    "### Parámetros\n",
    "\n",
    "Un **parámetro** es un objeto que se incluye en una definición de función para su uso en esa función. Cuando se define una función, se crean variables en el encabezado de esta. Luego, pueden usarse en el cuerpo de la función. En este contexto, estas variables se denominan “parámetros”. Considera, por ejemplo, lo siguiente:\n",
    "\n",
    "```python\n",
    "def remaining_login_attempts(maximum_attempts, total_attempts):\n",
    "    print(maximum_attempts - total_attempts)\n",
    "```\n",
    "Esta función toma dos variables, `maximum_attempts` y `total_attempts`, y las utiliza para realizar un cálculo. En este ejemplo, `maximum_attempts` y `total_attempts` son parámetros.\n",
    "\n",
    "### Argumentos\n",
    "En Python, un **argumento** son los datos que se ingresan en una función cuando se la llama. Al llamar a `remaining_login_attempts` en el siguiente ejemplo, los números enteros `3` y `2` se consideran argumentos:\n",
    "\n",
    "```python\n",
    "remaining_login_attempts(3, 2)\n",
    "```\n",
    "Estos números enteros pasan a la función a través de los parámetros que se identificaron al definir la función. En este caso, esos parámetros serían `maximum_attempts` y `total_attempts`. El número `3` está en la primera posición, por lo que pasa a `maximum_attempts`. Del mismo modo, el `2` está en la segunda posición y pasa a `total_attempts`.\n",
    "\n",
    "### Sentencias return\n",
    "\n",
    "Al definir funciones en Python, puedes emplear sentencias `return` si deseas que la función devuelva un resultado. La palabra clave `return` se utiliza para obtener información de una función. \n",
    "\n",
    "La palabra clave `return` se coloca delante de la información que quieres devolver. En el siguiente ejemplo, se encuentra antes del cálculo de cuántos intentos de inicio de sesión quedan:\n",
    "\n",
    "```python\n",
    "def remaining_login_attempts(maximum_attempts, total_attempts):\n",
    "    return maximum_attempts - total_attempts\n",
    "```\n",
    "**Nota:** La palabra clave `return` no es una función, por lo que no debes colocar paréntesis después de ella.\n",
    "\n",
    "Las sentencias `return` son útiles cuando se desea almacenar lo que una función devuelve dentro de una variable para utilizarla en otra parte del código. Por ejemplo, podrías usar esta variable para realizar cálculos o dentro de sentencias condicionales. En el siguiente ejemplo, la información devuelta a partir de la llamada a `remaining_login_attempts` se almacena en una variable nombrada `remaining_attempts`. Luego, esta variable se usa en una sentencia condicional que imprime el mensaje `\"Your account is locked\"` cuando `remaining_attempts` es menor o igual a `0`. Puedes ejecutar este código para explorar el resultado:\n"
   ]
  },
  {
   "cell_type": "code",
   "execution_count": null,
   "metadata": {},
   "outputs": [],
   "source": [
    "def remaining_login_attempts(maximum_attempts, total_attempts):\n",
    "    return maximum_attempts - total_attempts\n",
    "remaining_attempts = remaining_login_attempts(3, 3)\n",
    "if remaining_attempts <= 0:\n",
    "    print(\"Your account is locked\")"
   ]
  },
  {
   "cell_type": "markdown",
   "metadata": {},
   "source": [
    "En este ejemplo, se imprime el mensaje porque el cálculo en la función da como resultado `0`.\n",
    "\n",
    "## Variables globales y locales\n",
    "\n",
    "Para comprender mejor cómo interactúan las funciones con las variables, primero debes conocer la diferencia entre las variables globales y las locales. \n",
    "\n",
    "### Variables globales\n",
    "\n",
    "Una **variable global** es aquella que está disponible a través de todo el programa. Las variables globales se asignan fuera de una definición de función. Siempre que se llame a dicha variable, ya sea dentro o fuera de una función, devolverá el valor asignado.\n",
    "\n",
    "Por ejemplo, puedes asignar la siguiente variable al principio de tu código:\n",
    "\n",
    "```python\n",
    "device_id = \"7ad2130bd\"\n",
    "```\n",
    "A lo largo del resto de tu código, podrás acceder y modificar la variable `device_id` en condicionales, bucles, funciones y otros tipos de sintaxis.\n",
    "\n",
    "### Variables locales\n",
    "\n",
    "Una **variable local** es aquella que se asigna dentro de una función. No se puede llamar a estas variables ni acceder a ellas fuera del cuerpo de una función. Las variables locales incluyen parámetros, así como otras variables que se asignan dentro de una definición de función.\n",
    "\n",
    "En la siguiente definición de función, `total_string` y `name` son variables locales:\n",
    "\n",
    "```python\n",
    "def greet_employee(name):\n",
    "\n",
    "    total_string = \"Welcome\" + name\n",
    "\n",
    "    return total_string\n",
    "```\n",
    "\n",
    "La variable `total_string` es una variable local porque está asignada dentro de la función. El parámetro `name` es una variable local porque también se crea al definir la función.\n",
    "\n",
    "Cada vez que se llama a una función, Python crea estas variables temporalmente mientras la función se está ejecutando y las elimina de la memoria una vez que la función deja de ejecutarse.\n",
    "\n",
    "Esto significa que, si llamas a la función `greet_employee()` con un argumento y luego usas la variable `total_string` fuera de esta función, te dará error.\n",
    "\n",
    "### Prácticas recomendadas para variables globales y locales\n",
    "\n",
    "Cuando trabajas con variables y funciones, es muy importante asegurarte de que solo uses un nombre de variable en una ocasión, incluso si una se define de manera global y la otra local. \n",
    "\n",
    "Cuando utilizas variables globales dentro de funciones, estas últimas pueden acceder a los valores de una variable global. Puedes ejecutar el siguiente ejemplo para explorarlo:"
   ]
  },
  {
   "cell_type": "code",
   "execution_count": null,
   "metadata": {},
   "outputs": [],
   "source": [
    "username = \"elarson\"\n",
    "def identify_user():\n",
    "    print(username)\n",
    "identify_user()"
   ]
  },
  {
   "cell_type": "markdown",
   "metadata": {},
   "source": [
    "El bloque de código devuelve `\"elarson\"` incluso si ese nombre no está definido de manera local. La función accede a la variable global. Si quieres que la función `identify_user()` acepte otros nombres de usuario, tendrías que reasignar la variable global “username” fuera de la función. Esto no es una buena práctica. Una mejor manera de pasar diferentes valores a una función es utilizar un parámetro en lugar de una variable global.\n",
    "\n",
    "Hay algo más que considerar: Si reutilizas el nombre de una variable global dentro de una función, crearás una nueva variable local con ese nombre. En otras palabras, habrá tanto una variable global como una variable local con ese nombre, y tendrán valores diferentes. Ahora, considera el siguiente bloque de código:"
   ]
  },
  {
   "cell_type": "code",
   "execution_count": null,
   "metadata": {},
   "outputs": [],
   "source": [
    "username = \"elarson\"\n",
    "print(\"1:\" + username)\n",
    "def greet():\n",
    "    username = \"bmoreno\"\n",
    "    print(\"2:\" + username)\n",
    "greet()\n",
    "print(\"3:\" + username)"
   ]
  },
  {
   "cell_type": "markdown",
   "metadata": {},
   "source": [
    "La primera sentencia print se produce antes de la función y Python devuelve el valor de la variable global `username`, `\"elarson\"`. La segunda sentencia print está dentro de la función y devuelve el valor de la variable local `username`, que es `\"bmoreno\"`. Sin embargo, esto no cambia el valor de la variable global; cuando `username` se imprime una tercera vez después de la llamada a la función, el resultado sigue siendo `\"elarson\"`.\n",
    "\n",
    "Debido a esta complejidad, es mejor evitar combinar variables globales y locales dentro de las funciones.\n",
    "\n",
    "## Conclusiones clave\n",
    "Para trabajar con variables en funciones, es necesario comprender varios conceptos. Un parámetro es un objeto que se incluye en la definición de una función para su uso en dicha función. En tanto, un argumento es el dato que se introduce en una función cuando se la llama, y la palabra clave `return` se utiliza para devolver información desde una función. Además, las variables globales son accesibles en todo el programa, mientras que las locales son parámetros y variables asignadas dentro de una función que no pueden utilizarse fuera de dicha función. Es importante asegurarse de que todas las variables tengan nombres distintos, incluso si una es local y la otra es global."
   ]
  },
  {
   "cell_type": "markdown",
   "metadata": {},
   "source": [
    "# Trabajo con funciones integradas\n",
    "\n",
    "Anteriormente, aprendiste sobre las funciones integradas en Python, incluyendo `print()`, `type()`, `max()`, y `sorted()`. Las funciones integradas son funciones que existen dentro de Python y se pueden llamar directamente. En esta lectura, explorarás estas funciones con más detalle y también aprenderás sobre la función `min()`. Además, repasarás cómo pasar el resultado de una función a otra.\n",
    "\n",
    "### print()\n",
    "\n",
    "La función `print()` envía un objeto especificado a la pantalla. Es una de las funciones más utilizadas en Python porque te permite mostrar el resultado de cualquier detalle de tu código.\n",
    "\n",
    "Para usar la función `print()`, se pasa el objeto que se quiere imprimir como argumento a la función. La función `print()` puede tomar cualquier cantidad de argumentos, separados por comas, y los imprimirá. Por ejemplo, puedes ejecutar el siguiente código que imprime una cadena, una variable, otra cadena y un número entero juntos:\n"
   ]
  },
  {
   "cell_type": "code",
   "execution_count": null,
   "metadata": {},
   "outputs": [],
   "source": [
    "month = \"September\"\n",
    "print(\"Investigate failed login attempts during\", month, \"if more than\", 100)"
   ]
  },
  {
   "cell_type": "markdown",
   "metadata": {},
   "source": [
    "### type()\n",
    "\n",
    "### `type()`\n",
    "\n",
    "La función `type()` devuelve como resultado el tipo de datos de su argumento. Esta función te ayuda a realizar un seguimiento de los tipos de datos de las variables para evitar errores en todo el código.\n",
    "\n",
    "Para usarla, pasas el objeto como argumento y obtienes como resultado el tipo de datos. Esta función solo acepta un argumento. Por ejemplo, podrías especificar `type(\"security\")` o `type(7)`.\n",
    "\n",
    "### Cómo pasar una función a otra\n",
    "\n",
    "Al trabajar con funciones, a menudo necesitarás pasarlas a la función `print()` si deseas mostrar el tipo de dato en pantalla. Este es el caso cuando usas una función como `type()`. Ten en cuenta el siguiente código:\n"
   ]
  },
  {
   "cell_type": "code",
   "execution_count": null,
   "metadata": {},
   "outputs": [],
   "source": [
    "print(type(\"This is a string\"))"
   ]
  },
  {
   "cell_type": "markdown",
   "metadata": {},
   "source": [
    "Muestra `str`, lo que significa que el argumento que se pasó a la función `type()` es una cadena. Esto sucede porque la función `type()` se procesa primero y el resultado se ingresa como un argumento a la función `print()`.\n",
    "\n",
    "### max() y min()\n",
    "La función `max()` devuelve la entrada numérica más grande que se le haya pasado. La función `min()`, en tanto, devuelve la entrada numérica más pequeña que se le haya pasado.\n",
    "\n",
    "Estas funciones aceptan argumentos de múltiples valores numéricos o de un iterable como una lista, y devuelven el valor más grande o el más pequeño, según corresponda.\n",
    "\n",
    "En el ámbito de la ciberseguridad, puedes usar estas funciones para identificar la sesión más larga o la más corta para la que un usuario inició sesión. Si un usuario específico inició sesión siete veces durante una semana y almacenó sus tiempos de acceso en minutos en una lista, puedes emplear las funciones `max()` y `min()` para encontrar e imprimir las sesiones más largas y más cortas de dicho usuario:\n"
   ]
  },
  {
   "cell_type": "code",
   "execution_count": null,
   "metadata": {},
   "outputs": [],
   "source": [
    "time_list = [12, 2, 32, 19, 57, 22, 14]\n",
    "print(min(time_list))\n",
    "print(max(time_list))"
   ]
  },
  {
   "cell_type": "markdown",
   "metadata": {},
   "source": [
    "### sorted()\n",
    "La función `sorted()` ordena los componentes de una lista, opera en cualquier iterable, como una cadena, y devuelve elementos ordenados en una lista. Por defecto, los clasifica en orden ascendente. Cuando se le proporciona un iterable que contiene números, los ordena de menor a mayor; esto incluye iterables que contienen datos numéricos, así como aquellos que contienen datos de cadena que comienzan con números. Aquellos iterables que contengan cadenas que empiecen con caracteres alfabéticos se ordenarán alfabéticamente.\n",
    "\n",
    "La función `sorted()` toma un iterable, como una lista o una cadena, como entrada. Por lo tanto, por ejemplo, puedes utilizar el siguiente código para ordenar la lista de sesiones de inicio de sesión de la más corta a la más larga:\n"
   ]
  },
  {
   "cell_type": "code",
   "execution_count": null,
   "metadata": {},
   "outputs": [],
   "source": [
    "time_list = [12, 2, 32, 19, 57, 22, 14]\n",
    "print(sorted(time_list))"
   ]
  },
  {
   "cell_type": "markdown",
   "metadata": {},
   "source": [
    "Esto muestra la lista ordenada. \n",
    "\n",
    "La función `sorted()` no cambia el iterable que ordena. El siguiente código sirve para ilustrarlo:"
   ]
  },
  {
   "cell_type": "code",
   "execution_count": null,
   "metadata": {},
   "outputs": [],
   "source": [
    "time_list = [12, 2, 32, 19, 57, 22, 14]\n",
    "print(sorted(time_list))\n",
    "print(time_list)"
   ]
  },
  {
   "cell_type": "markdown",
   "metadata": {},
   "source": [
    "La primera función `print()` muestra la lista ordenada. Sin embargo, la segunda, que no incluye la función `sorted()`, muestra la lista asignada a `time_list` en la primera línea de código.\n",
    "\n",
    "Un detalle importante sobre la función `sorted()` es que no puede tomar listas o cadenas que tengan elementos de más de un tipo de datos. Por ejemplo, no puedes usar la lista `[1, 2, \"hello\"]`.\n",
    "\n",
    "### Conclusiones clave\n",
    "Las funciones integradas en Python son herramientas potentes que te permiten realizar tareas con un simple comando. La función `print()` imprime sus argumentos en la pantalla mientras que la función `type()` devuelve el tipo de datos de su argumento. Asimismo, las funciones `min()` y `max()` devuelven los valores más pequeños y más grandes de un iterable, respectivamente, en tanto que la función `sorted()` organiza su argumento.\n",
    "\n",
    "### Recursos para obtener más información\n",
    "Estas fueron solo algunas de las funciones integradas de Python. Puedes continuar explorando otras por tu cuenta en el siguiente enlace:\n",
    "\n",
    "- [Documentación de la biblioteca estándar de Python](https://docs.python.org/3/library/functions.html): una lista de las funciones integradas de Python e información sobre cómo usarlas.\n"
   ]
  },
  {
   "cell_type": "markdown",
   "metadata": {},
   "source": [
    "## Asegura una sintaxis adecuada y la legibilidad en Python\n",
    "\n",
    "Antes, se te presentó la guía de estilo PEP 8 y sus pautas estilísticas para programadores que trabajan en Python. También, aprendiste cómo el hecho de agregar comentarios y usar la sangría correcta permite que tu código sea más fácil de leer. Además, emplear la sangría indicada garantiza que tu código se ejecute correctamente. En esta lectura, exploramos estas ideas más a fondo y también nos enfocamos en elementos comunes para verificar la sintaxis de tu código para asegurarte de que se ejecute correctamente. \n",
    "\n",
    "### Comentarios\n",
    "\n",
    "Un **comentario** es una anotación que los programadores hacen para explicar el código. Los comentarios facilitan la lectura y comprensión de tu código tanto a ti como a otros programadores. \n",
    "\n",
    "Es importante comenzar tu código con un comentario que explique lo que hace el programa. Luego, a lo largo del código, deberías agregar comentarios adicionales sobre tus intenciones detrás de secciones específicas.\n",
    "\n",
    "Al añadir comentarios, puedes incluir tanto comentarios de una sola línea como comentarios de varias líneas.\n",
    "\n",
    "#### Comentarios de una sola línea\n",
    "\n",
    "Los comentarios de una sola línea en Python comienzan con el símbolo numeral (`#`). Según la guía de estilo de PEP 8, es una buena práctica mantener todas las líneas en Python por debajo de 79 caracteres para mantener la legibilidad, y esto incluye los comentarios.\n",
    "\n",
    "Los comentarios de una sola línea se utilizan con frecuencia a lo largo del programa para explicar la intención detrás de secciones específicas de código. Por ejemplo, esto puede ocurrir cuando estás explicando componentes más simples de tu programa, como el siguiente bucle `for`:\n",
    "\n",
    "```python\n",
    "# Print elements of 'computer_assets' list\n",
    "\n",
    "computer_assets = [\"laptop1\", \"desktop20\", \"smartphone03\"]\n",
    "\n",
    "for asset in computer_assets:\n",
    "    print(asset)\n",
    "```\n",
    "**Nota**: Los comentarios son importantes al escribir código más complejo, como funciones, bucles múltiples o sentencias condicionales. Sin embargo, son opcionales al escribir código menos complejo, como al reasignar una variable.\n",
    "\n",
    "\n",
    "#### Comentarios de varias líneas\n",
    "Los comentarios de varias líneas se utilizan cuando se requieren más de 79 caracteres en un solo comentario. Por ejemplo, esto puede ocurrir al definir una función si el comentario describe sus entradas, sus tipos de datos y su salida. \n",
    "\n",
    "Existen dos formas comúnmente utilizadas para escribir comentarios de varias líneas en Python. La primera es mediante el uso del símbolo numeral (`#`) en varias líneas:\n",
    "\n",
    "```python\n",
    "# remaining_login_attempts() function takes two integer parameters,\n",
    "\n",
    "# the maximum login attempts allowed and the total attempts made,\n",
    "\n",
    "# and it returns an integer representing remaining login attempts\n",
    "\n",
    "def remaining_login_attempts(maximum_attempts, total_attempts):\n",
    "\n",
    "    return maximum_attempts - total_attempts\n",
    "\n",
    "```\n",
    "\n",
    "Otra forma de escribir comentarios de varias líneas es utilizando cadenas de documentación sin asignarlas a una variable. Las cadenas de documentación, también llamadas “docstrings”, son cadenas que se escriben en varias líneas y se utilizan para documentar código. Para crear una cadena de documentación, utiliza comillas triples (`\"\"\" \"\"\"`). \n",
    "\n",
    "También podrías añadir el comentario a la función en el ejemplo anterior de la siguiente manera:\n",
    "\n",
    "```python\n",
    "\"\"\"\n",
    "\n",
    "remaining_login_attempts() function takes two integer parameters,\n",
    "\n",
    "the maximum login attempts allowed and the total attempts made,\n",
    "\n",
    "and it returns an integer representing remaining login attempts\n",
    "\n",
    "\"\"\"\n",
    "```\n",
    "\n",
    "### Sangría correcta\n",
    "La **sangría** es un espacio que se agrega al principio de una línea de código. En Python, debes usar sangría en el cuerpo de las sentencias condicionales, las sentencias iterativas y las definiciones de funciones. La sangría no solo es necesaria para que Python interprete la sintaxis correctamente, sino que también puede facilitar la lectura de tu código tanto a ti como a otros programadores.\n",
    "\n",
    "La guía de estilo PEP 8 recomienda que las sangrías tengan una longitud de cuatro espacios. Por ejemplo, si tuvieras una sentencia condicional dentro de un bucle `while`, el cuerpo del bucle tendría cuatro espacios de sangría y el cuerpo del condicional tendría otros cuatro espacios de sangría adicionales. Esto significa que la sentencia condicional tendría en total ocho espacios de sangría. \n",
    "\n",
    "```python\n",
    "count = 0\n",
    "\n",
    "login_status = True\n",
    "\n",
    "while login_status == True:\n",
    "\n",
    "    print(\"Try again.\")\n",
    "\n",
    "    count = count + 1\n",
    "\n",
    "    if count == 4:\n",
    "\n",
    "        login_status = False\n",
    "```\n",
    "\n",
    "### Cómo mantener la sintaxis correcta\n",
    "Los errores de sintaxis implican un uso inválido del lenguaje Python. Son muy comunes en este lenguaje, por lo que centrarse en una sintaxis correcta es esencial para asegurarse de que tu código se ejecute. Tomar conciencia de los errores comunes te ayudará a corregirlos más fácilmente. \n",
    "\n",
    "Los errores de sintaxis suelen ocurrir debido a errores con los tipos de datos o en los encabezados de sentencias condicionales, sentencias iterativas o definiciones de funciones.\n",
    "\n",
    "#### Tipos de datos\n",
    "La sintaxis correcta varía según el tipo de datos:\n",
    "\n",
    "Coloca los datos de cadena entre comillas.\n",
    "\n",
    "Ejemplo: `username = \"bmoreno\" `\n",
    "\n",
    "No agregues comillas alrededor de tipos de datos enteros, flotantes o booleanos.\n",
    "\n",
    "Ejemplos: `login_attempts = 5, percentage_successful = .8, login_status = True`\n",
    "\n",
    "Coloca las listas entre paréntesis y separa los elementos de una lista con comas.\n",
    "\n",
    "Ejemplo: `username_list = [\"bmoreno\", \"tshah\"]`\n",
    "\n",
    "#### Uso de dos puntos en los encabezados\n",
    "El encabezado de una sentencia condicional, una sentencia iterativa o la definición de una función debe terminar con dos puntos. Por ejemplo, se colocan dos puntos al final del encabezado en la siguiente definición de función:\n",
    "\n",
    "`def remaining_login_attempts(maximum_attempts, total_attempts):\n",
    "\n",
    "    return maximum_attempts - total_attempts`\n",
    "\n",
    "### Conclusiones clave\n",
    "La guía de estilo de PEP 8 proporciona recomendaciones para escribir código que pueda ser fácilmente comprendido por otros programadores de Python. Para dejar en claro tus intenciones, deberías incorporar comentarios en tu código. De acuerdo a la longitud del comentario, puedes seguir convenciones para comentarios de una o varias líneas. También es importante utilizar la sangría correcta; esto garantiza que tu código se ejecute según lo previsto y también lo hace más fácil de leer. Por último, además, deberías estar al tanto de los problemas de sintaxis comunes de modo que puedas corregirlos más fácilmente.\n",
    "\n",
    "### Recursos para obtener más información\n",
    "\n",
    "Aprender a escribir código legible puede ser un desafío, así que asegúrate de revisar a continuación la guía de estilo de PEP 8 para obtener información adicional sobre otros aspectos relacionados con la lectura del código.\n",
    "\n",
    "- [PEP 8 - Guía de estilo para código Python](https://peps.python.org/pep-0008/): La guía de estilo PEP 8 contiene todos los estándares del código Python. Al leer esta guía, es útil usar la tabla de contenidos para navegar a través de los conceptos que todavía no aprendiste.\n"
   ]
  },
  {
   "cell_type": "markdown",
   "metadata": {},
   "source": [
    "# Las cadenas y el analista de seguridad\n",
    "\n",
    "La capacidad de trabajar con cadenas es importante para el profesional de la ciberseguridad. Anteriormente, se te presentaron varias formas de trabajar con cadenas, incluidas las funciones y los métodos. También aprendiste a extraer elementos en cadenas mediante la notación y los índices entre corchetes. Esta lectura repasa estos conceptos y explica más sobre el uso del método `.index()`. También destaca ejemplos de datos de cadena que puedes encontrar en un entorno de seguridad.\n",
    "\n",
    "### Las cadenas en un entorno de seguridad\n",
    "\n",
    "Como analista, las cadenas son uno de los tipos de datos más comunes que encontrarás en Python. Las **cadenas** constan de una secuencia ordenada de caracteres. Se utilizan para almacenar cualquier tipo de información que no tienes que manipular matemáticamente (por ejemplo, mediante división o resta). En un contexto de ciberseguridad, esto incluye direcciones IP, nombres de usuario, URL e ID de empleados.\n",
    "\n",
    "Tendrás que trabajar con estas cadenas de varias maneras. Por ejemplo, puedes extraer ciertas partes de una dirección IP o verificar si los nombres de usuario cumplen con los criterios requeridos.\n",
    "\n",
    "### Trabajar con índices en cadenas\n",
    "\n",
    "#### Índices \n",
    "\n",
    "Un **índice** es un número asignado a cada elemento de una secuencia que indica su posición. Con las cadenas, esto significa que cada carácter en ella tiene su propio índice.\n",
    "\n",
    "Los índices comienzan en `0`. Por ejemplo, es posible que estés trabajando con esta cadena que contiene una ID de dispositivo: `\"h32rb17\"`. La siguiente tabla indica el índice para cada carácter en esta cadena:\n",
    "\n",
    "| carácter | índice |\n",
    "|----------|--------|\n",
    "| h        | 0      |\n",
    "| 3        | 1      |\n",
    "| 2        | 2      |\n",
    "| r        | 3      |\n",
    "| b        | 4      |\n",
    "| 1        | 5      |\n",
    "| 7        | 6      |\n",
    "\n",
    "También puedes usar números negativos como índices. Esto se basa en su posición relativa al último carácter de la cadena:\n",
    "\n",
    "| carácter | índice |\n",
    "|----------|--------|\n",
    "| h        | -7     |\n",
    "| 3        | -6     |\n",
    "| 2        | -5     |\n",
    "| r        | -4     |\n",
    "| b        | -3     |\n",
    "| 1        | -2     |\n",
    "| 7        | -1     |\n",
    "\n",
    "#### Notación entre corchetes\n",
    "\n",
    "La **notación entre corchetes** hace referencia a los índices que van encerrados en corchetes. Puedes usarla para extraer una parte de una cadena. Por ejemplo, el primer carácter de la ID de dispositivo podría representar una determinada característica de este. Si deseas extraerlo, puedes usar la notación entre corchetes:\n",
    "\n",
    "```python\n",
    "\"h32rb17\"[0]\n",
    "```\n",
    "\n",
    "Esta ID de dispositivo también puede almacenarse dentro de una variable llamada `device_id`. Puedes aplicar la misma notación entre corchetes a la variable:\n",
    "\n",
    "```python\n",
    "device_id = \"h32rb17\"\n",
    "\n",
    "device_id[0]\n",
    "```\n",
    "En ambos casos, se genera el carácter `h` cuando esta notación de corchetes se coloca dentro de una función `print()`. Podrás observar esto al ejecutar el siguiente código:"
   ]
  },
  {
   "cell_type": "code",
   "execution_count": null,
   "metadata": {},
   "outputs": [],
   "source": [
    "device_id = \"h32rb17\"\n",
    "print(\"h32rb17\"[0])\n",
    "print(device_id[0])"
   ]
  },
  {
   "cell_type": "markdown",
   "metadata": {},
   "source": [
    "También puedes tomar una porción de una cadena. Cuando haces esto, extraes más de un carácter de ella. A menudo se realiza en contextos de ciberseguridad cuando solo te interesa una parte específica de una cadena. Por ejemplo, pueden ser ciertos números de una dirección IP o ciertas partes de una URL.\n",
    "\n",
    "En el ejemplo de ID de dispositivo, es posible que necesites los primeros tres caracteres para determinar una cualidad particular de este. Para hacerlo, puedes tomar una porción de la cadena a través de la notación entre corchetes. Puedes ejecutar esta línea de código para observar que la salida es `\"h32\"`:"
   ]
  },
  {
   "cell_type": "code",
   "execution_count": null,
   "metadata": {},
   "outputs": [],
   "source": [
    "print(\"h32rb17\"[0:3])"
   ]
  },
  {
   "cell_type": "markdown",
   "metadata": {},
   "source": [
    "**Nota:** La porción comienza en el índice `0`, pero se excluye el segundo índice especificado después de los dos puntos. Esto significa que la porción termina una posición antes del índice `3`, o sea, en el índice `2`.\n",
    "\n",
    "### Métodos y funciones de las cadenas\n",
    "\n",
    "Las funciones `str()` y `len()` son útiles para trabajar con cadenas. También puedes aplicar métodos a cadenas, incluidos `.upper()`, `.lower()`, e `.index()`. Un método es una función que pertenece a un tipo de datos específico.\n",
    "\n",
    "#### str() y len()\n",
    "\n",
    "La función `str()` convierte su objeto de entrada en una cadena. Como analista, puedes usar esto en los registros de seguridad cuando trabajes con identificadores numéricos que no se van a usar con procesos matemáticos. Convertir un número entero en una cadena te da la capacidad de buscar a través de esta y también extraer porciones.\n",
    "\n",
    "Considera el ejemplo de una ID de empleado `19329302` que debes convertir en una cadena. Puedes usar la siguiente línea de código para convertirla en una cadena y almacenarla en una variable:\n",
    "\n",
    "```python\n",
    "string_id = str(19329302)\n",
    "```\n",
    "La segunda función que aprendiste es `len()`, que devuelve el número de elementos de un objeto.\n",
    "\n",
    "Como ejemplo, si deseas verificar que una ID determinada de un dispositivo cumple con un estándar de contener siete caracteres, puedes usar la función `len()` y una sentencia condicional. Cuando ejecutes el siguiente código, se imprimirá un mensaje si `\"h32rb17\"` tiene siete caracteres:\n",
    "\n",
    "\n"
   ]
  },
  {
   "cell_type": "code",
   "execution_count": null,
   "metadata": {},
   "outputs": [],
   "source": [
    "device_id_length = len(\"h32rb17\")\n",
    "if device_id_length == 7:\n",
    "    print(\"The device ID has 7 characters.\")"
   ]
  },
  {
   "cell_type": "markdown",
   "metadata": {},
   "source": [
    "#### .upper() y .lower()\n",
    "\n",
    "El método `.upper()` devuelve una copia de la cadena con todos sus caracteres en mayúsculas. Por ejemplo, puedes cambiar este nombre del área a todas las mayúsculas ejecutando el código `\"Information Technology\".upper()`. Devolverá la cadena \"INFORMATION TECHNOLOGY\".\n",
    "\n",
    "Mientras tanto, el método `.lower()` devuelve una copia de la cadena con todos los caracteres en minúsculas. `\"Information Technology\".lower()` devolverá la cadena \"information technology\".\n",
    "\n",
    "#### .index()\n",
    "\n",
    "El método `.index()` encuentra la primera ocurrencia de la entrada en una cadena y devuelve su ubicación. Por ejemplo, este código utiliza el método `.index()` para encontrar la primera aparición del carácter `\"r\"` en la ID de dispositivo `\"h32rb17\"`:\n",
    "\n"
   ]
  },
  {
   "cell_type": "code",
   "execution_count": null,
   "metadata": {},
   "outputs": [],
   "source": [
    "print(\"h32rb17\".index(\"r\"))"
   ]
  },
  {
   "cell_type": "markdown",
   "metadata": {},
   "source": [
    "El método `.index()` devuelve `3` porque la primera ocurrencia del carácter `\"r\"` está en el índice `3`.\n",
    "\n",
    "En otros casos, es posible que no se encuentre la entrada. Cuando esto sucede, Python devuelve un error. Por ejemplo, el código `print(\"h32rb17\".index(\"a\"))` devuelve un error porque `\"a\"` no está en la cadena `\"h32rb17\"`.\n",
    "\n",
    "También ten en cuenta que si una cadena contiene más de una instancia de un carácter, solo se devolverá la primera. Por ejemplo, la ID del dispositivo `\"r45rt46\"` contiene dos instancias de `\"r\"`. Puedes ejecutar el siguiente código para explorar su resultado:"
   ]
  },
  {
   "cell_type": "code",
   "execution_count": null,
   "metadata": {},
   "outputs": [],
   "source": [
    "print(\"r45rt46\".index(\"r\"))"
   ]
  },
  {
   "cell_type": "markdown",
   "metadata": {},
   "source": [
    "El resultado es `0` porque `.index()` devuelve solo la primera instancia de `\"r\"`, que está en el índice `0`. La instancia de `\"r\"` en el índice `3` no se devuelve.\n",
    "\n",
    "#### Cómo encontrar subcadenas con .index()\n",
    "\n",
    "Una **subcadena** es una secuencia continua de caracteres dentro de una cadena. Por ejemplo, `\"llo\"` es una subcadena de `\"hello\"`.\n",
    "\n",
    "El método `.index()` también se puede utilizar para encontrar el índice de la primera aparición de una subcadena. Éste devuelve el índice del primer carácter de esa subcadena. En el siguiente ejemplo, verás cómo se encuentra la primera instancia del usuario `\"tshah\"` en una cadena:\n"
   ]
  },
  {
   "cell_type": "code",
   "execution_count": null,
   "metadata": {},
   "outputs": [],
   "source": [
    "tshah_index = \"tsnow, tshah, bmoreno - updated\".index(\"tshah\")\n",
    "print(tshah_index)"
   ]
  },
  {
   "cell_type": "markdown",
   "metadata": {},
   "source": [
    "El método `.index()` devuelve el índice `7`, que es donde comienza la subcadena `\"tshah\"`.\n",
    "\n",
    "**Nota:** Debes tener cuidado al usar el método `.index()` para buscar subcadenas. En el ejemplo anterior, deseas ubicar la instancia de `\"tshah\"`. Si buscas solo `\"ts\"`, Python devolverá `0` en lugar de `7` porque `\"ts\"` también es una subcadena de `\"tsnow\"`.\n",
    "\n",
    "## Conclusiones clave.\n",
    "\n",
    "Como analista de seguridad, trabajarás con cadenas de distintas maneras. En primer lugar, puede que tengas que usar la notación entre corchetes para trabajar con índices de cadena. Dos funciones que probablemente usarás son `str()`, que convierte una entrada en una cadena, y `len()`, que encuentra la longitud de una cadena. También puedes usar métodos de cadena, características que solo funcionan en cadenas. Estos incluyen `.upper()`, que convierte todas las letras de una cadena en mayúsculas; `.lower()`, que convierte todas las letras de una cadena en minúsculas; e `.index()`, que devuelve el índice de la primera ocurrencia de su entrada dentro de una cadena.\n"
   ]
  },
  {
   "cell_type": "markdown",
   "metadata": {},
   "source": [
    "## Las listas y el analista de seguridad\n",
    "\n",
    "Anteriormente, examinaste cómo usar la notación entre corchetes para acceder y cambiar elementos en una lista, además de algunos métodos fundamentales para trabajar con listas. En esta lectura revisaremos estos conceptos con nuevos ejemplos, presentaremos el método `.index()` tal como se aplica a las listas y analizaremos cómo se usan las listas en un contexto de ciberseguridad.\n",
    "\n",
    "### Datos de lista en un entorno de seguridad\n",
    "\n",
    "Como analista de seguridad, trabajarás con listas en Python en más de una ocasión. Una lista es una estructura de datos que consta de una colección de datos en forma secuencial. Puedes usar listas para almacenar varios elementos en una sola variable. Una sola lista puede contener varios tipos de datos. \n",
    "\n",
    "En un contexto de ciberseguridad, las listas pueden usarse para almacenar nombres de usuario, direcciones IP, URL, ID de dispositivos y datos.\n",
    "\n",
    "Colocar datos dentro de una lista te permite trabajar con ellos de varias maneras. Por ejemplo, puedes iterar a través de una lista de ID de dispositivos mediante un bucle `for` para realizar las mismas acciones para todos los elementos de la lista. Puedes incorporar una sentencia condicional para realizar solo estas acciones si las ID de dispositivo cumplen con determinadas condiciones.\n",
    "\n",
    "### Cómo trabajar con índices en listas\n",
    "\n",
    "#### Índices\n",
    "\n",
    "Al igual que las cadenas, puedes trabajar con listas a través de sus índices, y los índices comienzan en `0`. En una lista, se asigna un índice a cada uno de sus elementos.\n",
    "\n",
    "Esta tabla contiene el índice para cada elemento de la lista `[\"elarson\", \"fgarcia\", \"tshah\", \"sgilmore\"]`:\n",
    "\n",
    "| elemento   | índice |\n",
    "|------------|--------|\n",
    "| \"elarson\"  | 0      |\n",
    "| \"fgarcia\"  | 1      |\n",
    "| \"tshah\"    | 2      |\n",
    "| \"sgilmore\" | 3      |\n",
    "\n",
    "### Notación entre corchetes\n",
    "\n",
    "Al igual que las cadenas, puedes usar la notación entre corchetes para extraer elementos o porciones de una lista. Para extraer un elemento de una lista, después de una lista o de la variable que contiene una lista, agrega corchetes que contengan el índice del elemento. En el siguiente ejemplo, se extrae el elemento con un índice de `2` de la variable `username_list` y lo imprime. Puedes ejecutar este código para examinar lo que produce:\n"
   ]
  },
  {
   "cell_type": "code",
   "execution_count": null,
   "metadata": {},
   "outputs": [],
   "source": [
    "username_list = [\"elarson\", \"fgarcia\", \"tshah\", \"sgilmore\"]\n",
    "print(username_list[2])"
   ]
  },
  {
   "cell_type": "markdown",
   "metadata": {},
   "source": [
    "En este ejemplo, se extrae el elemento en el índice `2` directamente de la lista:\n",
    "\n"
   ]
  },
  {
   "cell_type": "code",
   "execution_count": null,
   "metadata": {},
   "outputs": [],
   "source": [
    "print([\"elarson\", \"fgarcia\", \"tshah\", \"sgilmore\"][2])"
   ]
  },
  {
   "cell_type": "markdown",
   "metadata": {},
   "source": [
    "#### Cómo extraer una porción de una lista\n",
    "Al igual que con las cadenas, también se puede usar la notación entre corchetes para tomar una porción de una lista. En este caso, esto significa extraer más de un elemento.\n",
    "\n",
    "Cuando se extrae una porción de una lista, el resultado es otra lista. Esta lista extraída se llama sublista porque es parte de la lista original, que es más grande. \n",
    "\n",
    "Para extraer una sublista mediante notación entre corchetes, debes incluir dos índices. Puedes ejecutar el siguiente código que toma una porción de una lista y así explorar la sublista que devuelve:"
   ]
  },
  {
   "cell_type": "code",
   "execution_count": 12,
   "metadata": {},
   "outputs": [
    {
     "name": "stdout",
     "output_type": "stream",
     "text": [
      "['elarson', 'fgarcia']\n"
     ]
    }
   ],
   "source": [
    "username_list = [\"elarson\", \"fgarcia\", \"tshah\", \"sgilmore\"]\n",
    "print(username_list[0:2])"
   ]
  },
  {
   "cell_type": "markdown",
   "metadata": {},
   "source": [
    "El código devuelve una sublista de `[\"elarson\", \"fgarcia\"]`. Esto se debe a que el elemento en el índice `0`, \"elarson\", está incluido en la porción, pero el elemento en el índice `2`, \"tshah\", está excluido. La porción termina un elemento antes de este índice.\n",
    "\n",
    "### Cómo cambiar los elementos de una lista\n",
    "\n",
    "A diferencia de las cadenas, también puedes usar la notación entre corchetes para cambiar elementos en una lista. Esto se debe a que una cadena es **inmutable** y no se puede cambiar después de que ha sido creada y se le ha asignado un valor, pero las listas no son inmutables.\n",
    "\n",
    "Para cambiar un elemento de lista, utiliza una sintaxis similar a la que utilizarías al reasignar una variable, pero coloca el elemento específico para cambiar la notación entre corchetes después del nombre de la variable. Por ejemplo, el siguiente código cambia el elemento en el índice `1` de la variable `username_list` a `\"bmoreno\"`:\n"
   ]
  },
  {
   "cell_type": "code",
   "execution_count": null,
   "metadata": {},
   "outputs": [],
   "source": [
    "username_list = [\"elarson\", \"fgarcia\", \"tshah\", \"sgilmore\"]\n",
    "print(\"Before changing an element:\", username_list)\n",
    "username_list[1] = \"bmoreno\"\n",
    "print(\"After changing an element:\", username_list)"
   ]
  },
  {
   "cell_type": "markdown",
   "metadata": {},
   "source": [
    "Este código actualizó el elemento en el índice `1` de `\"fgarcia\"` a `\"bmoreno\"`.\n",
    "\n",
    "### Métodos de lista\n",
    "\n",
    "Los métodos de lista son funciones que son específicas del tipo de datos de lista. Estos incluyen `.insert()`, `.remove()`, `.append()` e `.index()`.\n",
    "\n",
    "#### .insert()\n",
    "\n",
    "El método `.insert()` agrega un elemento en una posición específica dentro de una lista. Tiene dos parámetros. El primero es el índice donde insertarás el nuevo elemento, y el segundo es el elemento que deseas insertar.\n",
    "\n",
    "Puedes ejecutar el siguiente código para explorar cómo se puede usar este método para insertar un nuevo nombre de usuario en una lista de nombres de usuario:"
   ]
  },
  {
   "cell_type": "code",
   "execution_count": null,
   "metadata": {},
   "outputs": [],
   "source": [
    "username_list = [\"elarson\", \"bmoreno\", \"tshah\", \"sgilmore\"]\n",
    "print(\"Before inserting an element:\", username_list)\n",
    "username_list.insert(2,\"wjaffrey\")\n",
    "print(\"After inserting an element:\", username_list)"
   ]
  },
  {
   "cell_type": "markdown",
   "metadata": {},
   "source": [
    "Debido a que el primer parámetro es `2` y el segundo parámetro es `\"wjaffrey\"`, `\"wjaffrey\"` se inserta en el índice `2`, que es la tercera posición. Los otros elementos de la lista se desplazan una posición. Por ejemplo, `\"tshah\"` estaba ubicado originalmente en el índice `2`, pero ahora se encuentra en el índice `3`.\n",
    "\n",
    "#### .remove()\n",
    "\n",
    "El método `.remove()` elimina la primera aparición de un elemento específico en una lista. Solo tiene un parámetro, el elemento que deseas eliminar.\n",
    "\n",
    "El siguiente código elimina `\"elarson\"` de `username_list`:"
   ]
  },
  {
   "cell_type": "code",
   "execution_count": null,
   "metadata": {},
   "outputs": [],
   "source": [
    "username_list = [\"elarson\", \"bmoreno\", \"wjaffrey\", \"tshah\", \"sgilmore\"]\n",
    "print(\"Before removing an element:\", username_list)\n",
    "username_list.remove(\"elarson\")\n",
    "print(\"After removing an element:\", username_list)"
   ]
  },
  {
   "cell_type": "markdown",
   "metadata": {},
   "source": [
    "Este código elimina `\"elarson\"` de la lista. Los elementos que siguen a `\"elarson\"` se desplazan a una posición más cerca del comienzo de la lista.\n",
    "\n",
    "**Nota:** Si hay dos apariciones del mismo elemento en una lista, el método `.remove()` solo elimina la primera instancia de ese elemento y no todas las ocurrencias.\n",
    "\n",
    "#### .append()\n",
    "\n",
    "El método `.append()` agrega entradas al final de una lista. Su único parámetro es el elemento que deseas agregar al final de la lista. \n",
    "\n",
    "Por ejemplo, podrías usar `.append()` para agregar `\"btang\"` al final de `username_list`:"
   ]
  },
  {
   "cell_type": "code",
   "execution_count": null,
   "metadata": {},
   "outputs": [],
   "source": [
    "username_list = [\"bmoreno\", \"wjaffrey\", \"tshah\", \"sgilmore\"]\n",
    "print(\"Before appending an element:\", username_list)\n",
    "username_list.append(\"btang\")\n",
    "print(\"After appending an element:\", username_list)"
   ]
  },
  {
   "cell_type": "markdown",
   "metadata": {},
   "source": [
    "Este código coloca `\"btang\"` al final de `username_list`, y todos los demás elementos permanecen en sus posiciones originales.\n",
    "\n",
    "El método `.append()` se usa a menudo con bucles `for` para rellenar una lista vacía con elementos. Puedes explorar cómo funciona con el siguiente código:"
   ]
  },
  {
   "cell_type": "code",
   "execution_count": null,
   "metadata": {},
   "outputs": [],
   "source": [
    "numbers_list = []\n",
    "print(\"Before appending a sequence of numbers:\", numbers_list)\n",
    "for i in range(10):\n",
    "    numbers_list.append(i)\n",
    "print(\"After appending a sequence of numbers:\", numbers_list)"
   ]
  },
  {
   "cell_type": "markdown",
   "metadata": {},
   "source": [
    "Antes del bucle `for`, la variable `numbers_list` no contiene ningún elemento. Cuando se imprime, se muestra la lista vacía. Luego, el bucle `for` itera a través de una secuencia de números y usa el método `.append()` para agregar cada uno de estos números a `numbers_list`. Después del bucle, cuando se imprime la variable `numbers_list`, muestra estos números.\n",
    "\n",
    "#### .index()\n",
    "\n",
    "Al igual que el método `.index()` utilizado para las cadenas, el método `.index()` utilizado para las listas encuentra la primera ocurrencia de un elemento en una lista y devuelve su índice. Toma el elemento que estás buscando como entrada.\n",
    "\n",
    "**Nota:** Si bien tiene el mismo nombre y uso que el método `.index()` que se utiliza para las cadenas, el método `.index()` que se usa en listas no es el mismo. Los métodos se definen mediante un tipo de datos, y debido a que las cadenas y las listas se definen de manera diferente, los métodos también son diferentes.\n",
    "\n",
    "A través de la variable `username_list`, puedes usar el método `.index()` para encontrar el índice del nombre de usuario \"tshah\":\n"
   ]
  },
  {
   "cell_type": "code",
   "execution_count": null,
   "metadata": {},
   "outputs": [],
   "source": [
    "username_list = [\"bmoreno\", \"wjaffrey\", \"tshah\", \"sgilmore\", \"btang\"]\n",
    "username_index = username_list.index(\"tshah\")\n",
    "print(username_index)"
   ]
  },
  {
   "cell_type": "markdown",
   "metadata": {},
   "source": [
    "Debido a que el índice de `\"tshah\"` es `2`, genera este número.\n",
    "\n",
    "Al igual que el método `.index()` utilizado para las cadenas, solo devuelve el índice de la primera aparición de un elemento de lista. Entonces, si el nombre de usuario `\"tshah\"` se repite dos veces, devolverá el índice de la primera instancia, y no el de la segunda.\n",
    "\n",
    "### Conclusiones clave\n",
    "\n",
    "Python ofrece muchas maneras de trabajar con listas. La notación entre corchetes te permite extraer elementos y porciones de listas, y también alterarlas. Los métodos de lista te permiten alterarlas de varias maneras. Los métodos `.insert()` y `.append()` agregan elementos a las listas, mientras que el método `.remove()` te permite eliminarlos. Con el método `.index()`, puedes encontrar el índice de un elemento en una lista.\n"
   ]
  },
  {
   "cell_type": "markdown",
   "metadata": {},
   "source": [
    "## Más información sobre las expresiones regulares\n",
    "\n",
    "Anteriormente, aprendiste sobre las expresiones regulares y un par de símbolos que puedes usar para construir patrones de expresiones regulares. En esta lectura, explorarás símbolos de expresión regular adicionales que se pueden usar en un contexto de ciberseguridad. También aprenderás más sobre el módulo `re` y su función `re.findall()`.\n",
    "\n",
    "### Conceptos básicos de las expresiones regulares\n",
    "\n",
    "Una expresión regular (regex) es una secuencia de caracteres que forma un patrón. Puedes usarlas en Python para buscar una variedad de patrones. Esto podría incluir direcciones IP, correos electrónicos o identificadores de dispositivos.\n",
    "\n",
    "Para acceder a expresiones regulares y funciones relacionadas en Python, primero debes importar el módulo `re`. Debes utilizar la siguiente línea de código para importar el módulo `re`:\n",
    "```python\n",
    "import re\n",
    "```\n",
    "Las expresiones regulares se almacenan en Python como cadenas. Luego, estas se utilizan en las funciones del módulo `re` para buscar en otras cadenas. Hay muchas funciones en el módulo `re`, pero explorarás cómo funcionan las expresiones regulares a través de `re.findall()`. La función `re.findall()` devuelve una lista de coincidencias a una expresión regular. Requiere dos parámetros; el primero es la cadena que contiene el patrón de expresión regular, y el segundo es la cadena que deseas buscar.\n",
    "\n",
    "Los patrones que comprenden una expresión regular consisten en caracteres alfanuméricos y símbolos especiales. Si un patrón de expresión regular consiste solo en caracteres alfanuméricos, Python revisará la cadena especificada para buscar coincidencias con este patrón y las devolverá. En el siguiente ejemplo, el primer parámetro es un patrón de expresión regular que consiste solo en los caracteres alfanuméricos \"ts\". El segundo parámetro, \"tsnow, tshah, bmoreno\", es la cadena que buscarás. Puedes ejecutar el siguiente código para explorar lo que devuelve:"
   ]
  },
  {
   "cell_type": "code",
   "execution_count": null,
   "metadata": {},
   "outputs": [],
   "source": [
    "import re\n",
    "re.findall(\"ts\", \"tsnow, tshah, bmoreno\")"
   ]
  },
  {
   "cell_type": "markdown",
   "metadata": {},
   "source": [
    "El resultado es una lista de solo dos elementos, los dos coinciden con \"ts\": `['ts', 'ts']`.\n",
    "\n",
    "Si deseas hacer algo más que buscar cadenas específicas, debes incorporar símbolos especiales en tus expresiones regulares.\n",
    "\n",
    "### Símbolos para expresiones regulares\n",
    "\n",
    "#### Símbolos para tipos de caracteres\n",
    "\n",
    "Puedes usar una variedad de símbolos para formar un patrón para tu expresión regular. Algunos de estos símbolos identifican un tipo particular de carácter. Por ejemplo, `\\w` coincide con cualquier carácter alfanumérico. \n",
    "\n",
    "Puedes ejecutar este código para explorar lo que `re.findall()` devuelve al aplicar la expresión regular de `\\w` a la ID de dispositivo de \"h32rb17\":"
   ]
  },
  {
   "cell_type": "code",
   "execution_count": null,
   "metadata": {},
   "outputs": [],
   "source": [
    "import re\n",
    "re.findall(\"\\w\", \"h32rb17\")"
   ]
  },
  {
   "cell_type": "markdown",
   "metadata": {},
   "source": [
    "Debido a que cada carácter dentro de esta ID de dispositivo es alfanumérico, Python devuelve una lista con siete elementos. Cada elemento representa uno de los caracteres de la ID del dispositivo.\n",
    "\n",
    "Puedes usar estos símbolos adicionales para que coincidan con tipos específicos de caracteres:\n",
    "\n",
    "- `.` coincide con todos los caracteres, incluidos los símbolos\n",
    "- `\\d` coincide con todos los dígitos `[0-9]`\n",
    "- `\\s` coincide con todos los espacios individuales \n",
    "- `\\.` coincide con el carácter del período\n",
    "\n",
    "El siguiente código busca en la misma ID de dispositivo que el ejemplo anterior, pero cambia el patrón de expresión regular a \"\\d\". Cuando lo ejecutes, devolverá una lista diferente:"
   ]
  },
  {
   "cell_type": "code",
   "execution_count": null,
   "metadata": {},
   "outputs": [],
   "source": [
    "import re\n",
    "re.findall(\"\\d\", \"h32rb17\")"
   ]
  },
  {
   "cell_type": "markdown",
   "metadata": {},
   "source": [
    "Esta vez, la lista contiene solo cuatro elementos. Cada elemento es uno de los dígitos numéricos de la cadena.\n",
    "\n",
    "### Símbolos para cuantificar ocurrencias\n",
    "\n",
    "Otros símbolos cuantifican el número de ocurrencias de un carácter específico en el patrón. En un patrón de expresión regular, puedes agregarlos después de que un carácter o un símbolo identifique un tipo de carácter para especificar el número de repeticiones que coinciden con el patrón.\n",
    "\n",
    "Por ejemplo, el símbolo `+` representa una o más ocurrencias de un carácter específico. En el siguiente ejemplo, el patrón lo coloca después del símbolo `\\d` para encontrar coincidencias con una o más ocurrencias de un solo dígito:"
   ]
  },
  {
   "cell_type": "code",
   "execution_count": null,
   "metadata": {},
   "outputs": [],
   "source": [
    "import re\n",
    "re.findall(\"\\d+\", \"h32rb17\")"
   ]
  },
  {
   "cell_type": "markdown",
   "metadata": {},
   "source": [
    "Con la expresión regular `\\d+`, la lista contiene las dos coincidencias de \"32\" y \"17\".\n",
    "\n",
    "Otro símbolo utilizado para cuantificar el número de ocurrencias es el símbolo `*`. El símbolo `*` representa cero, una o más ocurrencias de un carácter específico. El siguiente código sustituye el símbolo `*` por el `+` utilizado en el ejemplo anterior. Puedes ejecutarlo para examinar la diferencia:"
   ]
  },
  {
   "cell_type": "code",
   "execution_count": null,
   "metadata": {},
   "outputs": [],
   "source": [
    "import re\n",
    "re.findall(\"\\d*\", \"h32rb17\")"
   ]
  },
  {
   "cell_type": "markdown",
   "metadata": {},
   "source": [
    "Debido a que también coincide con cero ocurrencias, la lista ahora contiene cadenas vacías para los caracteres que no eran de un solo dígito.\n",
    "\n",
    "Si deseas indicar un número específico de repeticiones a permitir, puedes colocar este número entre llaves (`{ }`) después del carácter o símbolo. En el siguiente ejemplo, el patrón de expresión regular `\\d{2}` indica a Python que devuelva todas las coincidencias de exactamente dos dígitos seguidos de una cadena de múltiples ID de dispositivo:"
   ]
  },
  {
   "cell_type": "code",
   "execution_count": null,
   "metadata": {},
   "outputs": [],
   "source": [
    "import re\n",
    "re.findall(\"\\d{2}\", \"h32rb17 k825t0m c2994eh\")"
   ]
  },
  {
   "cell_type": "markdown",
   "metadata": {},
   "source": [
    "Debido a que coincide con dos repeticiones, cuando Python se encuentra con un solo dígito, verifica si hay otro después de él. Si lo hay, Python agrega los dos dígitos a la lista y pasa al siguiente. Si no lo hay, pasa al siguiente dígito sin agregar el primero a la lista.\n",
    "\n",
    "**Nota:** Python escanea cadenas de izquierda a derecha cuando se compara con una expresión regular. Cuando Python encuentra una parte de la cadena que coincide con el primer carácter esperado que ha sido definido en la expresión regular, continúa comparando los caracteres posteriores con el patrón esperado. Cuando el patrón se completa, este proceso comienza de nuevo. Entonces, en los casos en que aparecen tres dígitos en una fila, el tercero se toma como un nuevo dígito inicial.\n",
    "\n",
    "También puedes especificar un rango dentro de las llaves separando dos números con una coma. El primer número es el número mínimo de repeticiones, y el segundo, el número máximo de repeticiones. El siguiente ejemplo arroja todas las coincidencias que tienen entre una y tres repeticiones de un solo dígito:"
   ]
  },
  {
   "cell_type": "code",
   "execution_count": null,
   "metadata": {},
   "outputs": [],
   "source": [
    "import re\n",
    "re.findall(\"\\d{1,3}\", \"h32rb17 k825t0m c2994eh\")"
   ]
  },
  {
   "cell_type": "markdown",
   "metadata": {},
   "source": [
    "La lista devuelta contiene elementos de un dígito como \"0\", dos dígitos como \"32\" y tres dígitos como \"825\".\n",
    "\n",
    "### Cómo construir un patrón\n",
    "Construir una expresión regular requiere que descompongas el patrón que estás buscando en trozos más pequeños y representes estos trozos a través de los símbolos que ya aprendiste. Revisa este ejemplo, en que una cadena contiene múltiples piezas de información sobre los empleados de una organización. Para cada empleado, la siguiente cadena contiene su ID de empleado, su nombre de usuario seguido de dos puntos (:), sus intentos de inicio de sesión del día y su área:\n",
    "\n",
    "```python\n",
    "employee_logins_string = \"1001 bmoreno: 12 Marketing 1002 tshah: 7 Human Resources 1003 sgilmore: 5 Finance\"\n",
    "```\n",
    "Tu tarea es extraer el nombre de usuario y los intentos de inicio de sesión, sin el número de identificación o área del empleado.\n",
    "\n",
    "Para completarla mediante expresiones regulares, debes dividir lo que estás buscando en componentes más pequeños. En este caso, esos componentes son el número variable de caracteres en un nombre de usuario, dos puntos, un espacio y un número variable de dígitos individuales. Los símbolos de expresión regular correspondientes son `\\w+`, `:`, `\\s` y `\\d+` respectivamente. Al utilizar estos símbolos como tu expresión regular, puedes ejecutar el siguiente código para extraer las cadenas:"
   ]
  },
  {
   "cell_type": "code",
   "execution_count": null,
   "metadata": {},
   "outputs": [],
   "source": [
    "import re\n",
    "pattern = \"\\w+:\\s\\d+\"\n",
    "employee_logins_string = \"1001 bmoreno: 12 Marketing 1002 tshah: 7 Human Resources 1003 sgilmore: 5 Finance\"\n",
    "print(re.findall(pattern, employee_logins_string))"
   ]
  },
  {
   "cell_type": "markdown",
   "metadata": {},
   "source": [
    "**Nota**: Trabajar con expresiones regulares puede conllevar el riesgo de devolver información innecesaria o excluir cadenas que deseas devolver. Por lo tanto, es útil que pruebes tus expresiones regulares.\n",
    "\n",
    "### Conclusiones clave\n",
    "Las expresiones regulares te permiten buscar a través de cadenas para encontrar coincidencias con patrones específicos. Puedes utilizar expresiones regulares importando el módulo re. Este módulo contiene múltiples funciones, entre ellas `re.findall()`, que devuelve todas las coincidencias a un patrón en forma de lista. Para formar un patrón, se utilizan caracteres y símbolos. Los símbolos te permiten especificar tipos de caracteres y cuantificar la cantidad de repeticiones de un carácter o tipo de carácter que pueden ocurrir en el patrón.\n"
   ]
  },
  {
   "cell_type": "markdown",
   "metadata": {},
   "source": [
    "## Los componentes esenciales de Python para la automatización\n",
    "\n",
    "A lo largo de este curso, exploraste la codificación en Python. Estudiaste variables, sentencias condicionales, sentencias iterativas, funciones y diversas formas de trabajar con cadenas y listas. En esta lectura, conocerás por qué todos estos son componentes esenciales al automatizar tareas a través de Python, y te presentaremos otro componente necesario: el trabajo con archivos.\n",
    "\n",
    "### Automatización de tareas en Python\n",
    "\n",
    "La **automatización** implica el uso de la tecnología para reducir el esfuerzo humano y manual que conlleva realizar tareas comunes y repetitivas. Como analista de seguridad, usarás principalmente Python para automatizar tareas.\n",
    "\n",
    "En este curso hay muchos ejemplos de cómo usar Python para la automatización, como la investigación de inicios de sesión, la administración de acceso y la actualización de dispositivos.\n",
    "\n",
    "Para automatizar tareas relacionadas con la ciberseguridad, es necesario comprender los siguientes componentes de Python con los que has trabajado en este curso:\n",
    "\n",
    "#### Variables\n",
    "Una **variable** es un contenedor que almacena datos. Las variables son esenciales para la automatización. Sin ellas, tendrías que reescribir por separado los valores de cada acción que realizaste en Python.\n",
    "\n",
    "#### Sentencias condicionales\n",
    "Una **sentencia condicional** evalúa el código para determinar si cumple con un conjunto de condiciones específicas. Además, permite verificar las condiciones antes de realizar acciones. Esto es mucho más eficiente que evaluar manualmente si se debe aplicar una acción a cada uno de los datos.\n",
    "\n",
    "#### Sentencias iterativas \n",
    "Una **sentencia iterativa** es un código que ejecuta repetidamente un conjunto de instrucciones. Exploraste dos tipos de sentencias iterativas: bucles `for` y bucles `while`. Ambas permiten realizar las mismas acciones una cierta cantidad de veces sin la necesidad de volver a escribir el mismo código cada vez. El uso de un bucle `for` te permite automatizar la repetición de ese código con base en una secuencia, mientras que un bucle `while` permite automatizar la repetición con base en una condición.\n",
    "\n",
    "#### Funciones \n",
    "Una **función** es una sección de código que se puede reutilizar en un programa. Las funciones te ayudan a automatizar tus tareas, ya que reducen la necesidad de incorporar el mismo código en varios lugares de un programa. En lugar de hacer eso, puedes definir la función una sola vez y llamarla si la necesitas. Además, puedes desarrollar tus propias funciones de acuerdo con tus necesidades particulares. También puedes incorporar las funciones integradas que existen directamente en Python sin necesidad de codificarlas manualmente.\n",
    "\n",
    "#### Técnicas para trabajar con cadenas\n",
    "Las cadenas son uno de los tipos de datos más comunes que encontrarás al automatizar tareas de ciberseguridad a través de Python, y hay muchas técnicas que hacen más eficiente el trabajo con ellas. La notación entre corchetes te permitirá acceder a los caracteres de una cadena a través de sus índices. También puedes usar diversas funciones y métodos al trabajar con cadenas, como `str()`, `len()` e `.index()`.\n",
    "\n",
    "#### Técnicas para trabajar con listas\n",
    "Los datos de lista son otro tipo de datos común. Al igual que con las cadenas, la notación entre corchetes te permite acceder a un elemento de la lista a través de su índice. Cuando trabajes con listas, también dispondrás de varios métodos que te ayudarán con la automatización. Estos incluyen `.insert()`, `.remove()`, `.append()` e `.index()`.\n",
    "\n",
    "#### Ejemplo: Contar los inicios de sesión realizados por un usuario marcado\n",
    "\n",
    "Solo a modo de ejemplo, quizás tengas que investigar los inicios de sesión de un usuario específico que se marcó debido a una actividad inusual. Específicamente, eres responsable de contar cuántas veces el usuario inició sesión ese día. Si dispones de una lista que identifica el nombre de usuario asociado a cada intento de inicio de sesión realizado en el día, puedes automatizar esta investigación en Python.\n",
    "\n",
    "Para hacerlo, deberás incorporar los siguientes componentes de Python:\n",
    "\n",
    "1. Un bucle `for` con el que podrás iterar a través de todos los nombres de usuario de la lista. \n",
    "\n",
    "2. Dentro del bucle `for`, debes incorporar una sentencia condicional que examine si cada nombre de usuario de la lista coincide con el nombre de usuario del usuario marcado.\n",
    "\n",
    "3. Si la condición se evalúa como `True`, también debes incrementar una variable de contador que realice un seguimiento de la cantidad de veces que el usuario marcado aparece en la lista.\n",
    "\n",
    "Además, si deseas reutilizar este código varias veces, puedes incorporarlo a una función. La función puede incluir parámetros que acepten el nombre de usuario del usuario marcado y la lista en que se iterará. (Esta contendrá los nombres de usuario asociados con todos los intentos de inicio de sesión realizados ese día). La función puede usar la variable de contador con el fin de devolver la cantidad de inicios de sesión para ese usuario marcado.\n",
    "\n",
    "### Trabajar con archivos en Python\n",
    "\n",
    "Un componente adicional de la automatización de tareas relacionadas con la ciberseguridad en Python es entender cómo trabajar con archivos. Los datos relacionados con la seguridad suelen encontrarse en los archivos de registro. Un **registro** (o log) es un inventario de los eventos que se producen en los sistemas de una organización. A los registros se les suelen anexar líneas a medida que pasa el tiempo.\n",
    "\n",
    "Los dos formatos de archivo comunes para los registros de seguridad son los archivos `.txt` y los archivos `.csv`. Tanto los archivos `.txt` como los `.csv` son tipos de archivos de texto, lo que significa que solo contienen texto sin formato. No contienen imágenes ni especifican las propiedades gráficas del texto como la fuente, el color o el espaciado. En un archivo `.csv`, o  de \"valores separados por comas\", los valores están separados por comas. En un archivo .`txt`, no hay un formato específico para separar valores, y puede hacerse esto de varias maneras, por ejemplo, mediante espacios.\n",
    "\n",
    "Los datos se pueden extraer fácilmente de los archivos `.txt` y `.csv`. Y también puedes convertirlos en otros formatos de archivo.\n",
    "\n",
    "Próximamente, aprenderás a importar, leer y escribir en archivos. Además, explorarás cómo estructurar la información contenida en los archivos.\n",
    "\n",
    "### Conclusiones clave\n",
    "\n",
    "Es importante que los analistas de seguridad puedan automatizar las tareas en Python. Esto requiere conocer sus conceptos fundamentales, como las variables, las sentencias condicionales e iterativas y las técnicas para trabajar con cadenas y listas. Además, la habilidad de trabajar con archivos también resulta esencial para la automatización en Python.\n"
   ]
  },
  {
   "cell_type": "markdown",
   "metadata": {},
   "source": [
    "## Importar archivos a Python\n",
    "\n",
    "Ya exploraste cómo abrir archivos en Python, convertirlos en cadenas y leerlos. Ahora, revisarás cuál es la sintaxis necesaria para este proceso. También aprenderás por qué es importante que los analistas de seguridad que utilizan Python puedan trabajar con archivos, y te familiarizarás con la escritura en archivos.\n",
    "\n",
    "### Cómo trabajar con archivos en ciberseguridad \n",
    "\n",
    "Al trabajar en Python, es posible que los analistas de seguridad necesiten acceder a varios archivos. Muchos de estos archivos serán registros. Un **registro** (o log) es un inventario de los eventos que se producen en los sistemas de una organización.\n",
    "\n",
    "Por ejemplo, puede haber un registro que contenga información sobre los intentos de inicio de sesión. Esto podría usarse para identificar actividades inusuales que indiquen que un agente de amenaza intentó acceder al sistema.\n",
    "\n",
    "También puede suceder que los actores de amenaza que violaron el sistema sean capaces de atacar las aplicaciones de software. Un analista podría necesitar acceder a un registro que contiene información sobre las aplicaciones de software que están experimentando problemas.\n",
    "\n",
    "### Cómo abrir archivos en Python\n",
    "\n",
    "Para abrir un archivo llamado `\"update_log.txt\"` en Python con el fin de leerlo, puedes incorporar la siguiente línea de código:\n",
    "\n",
    "```python\n",
    "with open(\"update_log.txt\", \"r\") as file:\n",
    "```\n",
    "Esta línea incluye la palabra clave `with`, la función `open()` con sus dos parámetros y la palabra clave `as` seguida del nombre de una variable. Debes colocar dos puntos (`:`) al final de la línea.\n",
    "\n",
    "#### with\n",
    "La palabra clave `with` maneja los errores y gestiona los recursos externos cuando se utiliza con otras funciones. En este caso, se utiliza con la función `open()` para abrir un archivo. Luego, gestionará los recursos al cerrar el archivo después de salir de la sentencia `with`.\n",
    "\n",
    "**Nota**: También puedes usar la función `open()` sin la palabra clave `with`. Sin embargo, debes cerrar el archivo que abriste para garantizar el manejo adecuado del archivo. \n",
    "\n",
    "#### open()\n",
    "La función `open()` abre un archivo en Python.\n",
    "\n",
    "El primer parámetro identifica el archivo que deseas abrir. En la siguiente estructura de archivos, `\"update_log.txt\"` se encuentra en el mismo directorio que el archivo Python al que accederá, `\"log_parser.ipynb\"`:\n",
    "\n",
    "![](https://d3c33hcgiwev3.cloudfront.net/imageAssetProxy.v1/6yIriXeSRVusqdhshMgJzw_cde2e1d0308344e8ac1b9e276eeb41f1_gt1HZ_gwphon8kMUtMEps3S4sKej_tYPtBVgjNJ57LQh7spBmdJXNv_AEmjVXO1R9a9UW3aO7e-JyFD8QXS-r8-p7HQewrQRhKDLu6SNT4WGe6Ww8nLBSf6CgCNKHXecffXKLpmuG30GUV36lMve1C5f?expiry=1715990400000&hmac=l_Tf_BYCerPwkosdVBR5JKsbbejvk5FintRQZyLEzLk)\n",
    "\n",
    "Debido a que están en el mismo directorio, solo se requiere el nombre del archivo. El código se puede escribir como `with open(\"update_log.txt\", \"r\") as file:`.\n",
    "\n",
    "Sin embargo, \"access_log.txt\" no se encuentra en el mismo directorio que el archivo de Python \"log_parser.ipynb\". Por lo tanto, es necesario especificar su ruta de archivo absoluta. Una ruta de archivo es la ubicación de un archivo o directorio. Una ruta de archivo absoluta comienza desde el directorio de nivel más alto, la raíz, o root. En el siguiente código, el primer parámetro de la función `open()` incluye la ruta absoluta del archivo a \"access_log.txt\":\n",
    "\n",
    "```python\n",
    "with open(\"/home/analyst/logs/access_log.txt\", \"r\") as file:\n",
    "```\n",
    "**Nota:** En Python, los nombres de los archivos o sus rutas de archivo se pueden manejar como cadenas y, como todas las cadenas, se las debe colocar entre comillas.\n",
    "\n",
    "El segundo parámetro de la función `open()` indica lo que deseas hacer con el archivo. En ambos ejemplos, el segundo parámetro es `\"r\"`, que indica que deseas leer el archivo. Alternativamente, puedes usar `\"w\"` si lo que quieres es escribir en un archivo o `\"a\"` si quieres anexar a un archivo.\n",
    "\n",
    "#### as\n",
    "Al abrir un archivo con `with open()`, tienes que proporcionar una variable que pueda almacenar el archivo mientras está dentro de la sentencia `with`. Puedes hacerlo mediante la palabra clave `as` seguida de este nombre de variable. La palabra clave `as` asigna una variable que hace referencia a otro objeto. El código `with open(\"update_log.txt\", \"r\") as file:` asigna `file` para que haga referencia a la salida de la función `open()` dentro del bloque de código sangrado (con sangría) que lo sigue.\n",
    "\n",
    "### Cómo leer archivos en Python\n",
    "\n",
    "Después de usar el código `with open(\"update_log.txt\", \"r\") as file:` para importar \"update_log.txt\" en la variable `file`, debes indicar qué hacer con el archivo en las líneas sangradas (con sangría) que lo siguen. Por ejemplo, este código utiliza el método `.read()` para leer el contenido del archivo:\n",
    "\n",
    "```python\n",
    "with open(\"update_log.txt\", \"r\") as file:\n",
    "    updates = file.read()\n",
    "    print(updates)\n",
    "```\n",
    "\n",
    "El método `.read()` convierte los archivos en cadenas. Esto es necesario para usar y mostrar el contenido del archivo que se leyó.\n",
    "\n",
    "En este ejemplo, la variable `file` se utiliza para generar una cadena del contenido del archivo mediante `.read()`. Luego, esta cadena se almacena en otra variable llamada `updates`. Luego de esto, `print(updates)` muestra la cadena.\n",
    "\n",
    "Una vez que el archivo se lee en la cadena `updates`, puedes realizar las mismas operaciones que puedes hacer con cualquier otra cadena. Por ejemplo, puedes usar el método `.index()` para devolver el índice en el que un cierto carácter o subcadena en concreto aparece. También puedes usar `len()` para devolver la longitud de esta cadena.\n",
    "\n",
    "### Cómo escribir archivos en Python\n",
    "\n",
    "Es posible que los analistas de seguridad también necesiten escribir en archivos. Esto podría ocurrir por diversas razones. Por ejemplo, quizás necesiten crear un archivo que contenga los nombres de usuario aprobados en una nueva lista de permisos. O bien, podrían tener que editar los archivos existentes para agregar datos o cumplir con las políticas de estandarización.\n",
    "\n",
    "Para escribir en un archivo, deberás abrir el archivo con `\"w\"` o `\"a\"` como el segundo argumento de `open()`. \n",
    "\n",
    "Cuando quieras reemplazar el contenido de un archivo existente, debes usar el argumento `\"w\"`. Al trabajar con el archivo existente `update_log.txt`, el código `with open(\"update_log.txt\", \"w\") as file:` lo abre para que se pueda reemplazar su contenido. \n",
    "\n",
    "Además, puedes usar el argumento `\"w\"` para crear un archivo nuevo. Por ejemplo, `with open(\"update_log2.txt\", \"w\") as file:` crea y abre un archivo nuevo llamado \"update_log2.txt\". \n",
    "\n",
    "Si lo que quieres es agregar información nueva al final de un archivo existente en lugar de escribir sobre él, debes usar el argumento `\"a\"`. El código `with open(\"update_log.txt\", \"a\") as file:` abre \"update_log.txt\" para que se pueda añadir nueva información al final. La información existente no se eliminará.\n",
    "\n",
    "Cuando abres un archivo para escribir en él, debes indicar qué hacer con el archivo en las líneas sangradas que siguen, al igual que al abrir un archivo para leerlo. Tanto con `\"w\"` como con `\"a\"`, puedes usar el método `.write()`, que escribe cadenas a un archivo especificado. \n",
    "\n",
    "El siguiente ejemplo utiliza el método `.write()` para anexar el contenido de la variable `line` al archivo \"access_log.txt\".\n",
    "\n",
    "```python\n",
    "line = \"jrafael,192.168.243.140,4:56:27,True\"\n",
    "\n",
    "with open(\"access_log.txt\", \"a\") as file:\n",
    "    file.write(line)\n",
    "```\n",
    "**Nota:** Llamar al método `.write()` sin usar la palabra clave `with` al importar el archivo puede hacer que los argumentos no se escriban por completo en el archivo si este no se cierra correctamente de otra manera.\n",
    "\n",
    "### Conclusiones clave\n",
    "\n",
    "Es importante que los analistas de seguridad puedan importar archivos a Python y, luego, leerlos o escribirlos. La importación de archivos en Python implica el uso de la palabra clave `with`, la función `open()` y la palabra clave `as`. Leer y escribir en archivos requiere conocer los métodos `.read()` y `.write()` y los argumentos de la función `open()`: `\"r\"`, `\"w\"` y `\"a\"`. \n",
    "\n"
   ]
  },
  {
   "cell_type": "markdown",
   "metadata": {},
   "source": [
    "## Explorando las técnicas de depuración\n",
    "\n",
    "Ya conoces tres tipos de errores que puedes encontrar mientras trabajas en Python y, además, aprendiste las estrategias para depurar estos errores. Esta lectura analiza más a fondo estos conceptos con estrategias y ejemplos adicionales para depurar el código en Python.\n",
    "\n",
    "### Tipos de errores\n",
    "\n",
    "Obtener mensajes de error o ver que el código que se está ejecutando no funciona de acuerdo a lo esperado es una parte normal del desarrollo de código en Python. Lo importante es que puedes encontrar la manera de corregir estos errores cuando se generan. Entender los tres tipos de errores principales puede ser de mucha ayuda. Estos incluyen errores de sintaxis, errores lógicos y excepciones.\n",
    "\n",
    "#### Errores de sintaxis \n",
    "\n",
    "Un **error de sintaxis** implica el uso no válido de un lenguaje de programación, y suele ocurrir cuando hay un error en la propia sintaxis de Python. Algunos ejemplos comunes de errores de sintaxis incluyen olvidar un signo de puntuación, como un corchete de cierre para una lista o dos puntos después de un encabezado de función. \n",
    "\n",
    "Si se ejecuta código con errores de sintaxis, la salida identificará la ubicación del error con el número de línea y una parte del código afectado. También describirá el error. Los errores de sintaxis suelen comenzar con la etiqueta `\"SyntaxError:\"`, seguida de una descripción del error que podría ser, simplemente, `\"invalid syntax\"` (sintaxis no válida). Si se te olvida incluir un paréntesis de cierre en una función, la descripción podría ser `\"unexpected EOF while parsing\"` (EOF inesperado durante el análisis sintáctico). `\"EOF\"` significa \"end of file\" (fin de archivo). \n",
    "\n",
    "El siguiente código contiene un error de sintaxis. Ejecútalo y examina su salida:\n"
   ]
  },
  {
   "cell_type": "code",
   "execution_count": null,
   "metadata": {},
   "outputs": [],
   "source": [
    "message = \"You are debugging a syntax error\n",
    "print(message)"
   ]
  },
  {
   "cell_type": "markdown",
   "metadata": {},
   "source": [
    "Esto genera el mensaje `\"SyntaxError: EOL while scanning string literal\"` (Error de sintaxis: EOL al escanear el literal de cadena). \"EOL\" significa \"end of line\" (fin de línea). El mensaje de error también indica que el error ocurre en la primera línea y que se produjo porque faltaba una comilla al final de la cadena en la primera línea. Puedes corregirlo si agregas esa comilla que falta.\n",
    "\n",
    "**Nota:** Es posible que encuentres la etiqueta de error `\"IndentationError\"` (Error de sangrado) en lugar de `\"SyntaxError\"` (Error de sintaxis). \"IndentationError\" es una subclase de `\"SyntaxError\"` que se produce cuando la sangría utilizada con una línea de código no es sintácticamente correcta.\n",
    "\n",
    "\n",
    "#### Errores lógicos\n",
    "\n",
    "Un error lógico se produce cuando la lógica utilizada en el código produce resultados no deseados. Es posible que los errores lógicos no generen mensajes de error. En otras palabras, el código no hará lo que esperas que haga, aunque sigue siendo válido para el intérprete. \n",
    "\n",
    "Por ejemplo, usar el operador lógico incorrecto, como un signo mayor o igual que (`>=`) en lugar de un signo mayor que (`>`), puede generar un error lógico. Python no evaluará la condición como esperas que lo haga. Sin embargo, el código es válido y se ejecutará sin generar un mensaje de error. \n",
    "\n",
    "El siguiente ejemplo genera un mensaje que indica si un usuario alcanzó o no el número máximo de cinco intentos de inicio de sesión. La condición en la sentencia `if` debe ser `login_attempts > 5`, pero se escribe como `login_attempts >= 5`. Se asignó un valor de `5` a `login_attempts` para que puedas explorar cuál es el resultado en esa instancia:"
   ]
  },
  {
   "cell_type": "code",
   "execution_count": null,
   "metadata": {},
   "outputs": [],
   "source": [
    "login_attempts = 5\n",
    "if login_attempts >= 5:\n",
    "    print(\"User has not reached maximum number of login attempts.\")\n",
    "else:\n",
    "    print(\"User has reached maximum number of login attempts.\")"
   ]
  },
  {
   "cell_type": "markdown",
   "metadata": {},
   "source": [
    "La salida muestra el mensaje `\"User has not reached maximum number of login attempts.\"` Sin embargo, esto no es cierto, ya que el número máximo de intentos de inicio de sesión es de cinco. Este es un error lógico.\n",
    "\n",
    "Los errores lógicos también pueden generarse si se asigna el valor incorrecto en una condición, o cuando un error en la sangría hace que una línea de código se ejecute de una manera que no estaba planeada.\n",
    "\n",
    "#### Excepciones\n",
    "Una **excepció**n es un error que involucra código que no se puede ejecutar aunque sea sintácticamente correcto. Esto sucede por diversos motivos.\n",
    "\n",
    "Uno habitual es cuando el código incluye una variable sin asignar o una función sin definir. En este caso, la salida incluirá `\"NameError\"` para indicar que se trata de un error en el nombre. Después de ejecutar el siguiente código, usa el mensaje de error para determinar qué variable está sin asignar:"
   ]
  },
  {
   "cell_type": "code",
   "execution_count": null,
   "metadata": {},
   "outputs": [],
   "source": [
    "username = \"elarson\"\n",
    "month = \"March\"\n",
    "total_logins = 75\n",
    "failed_logins = 18\n",
    "print(\"Login report for\", username, \"in\", month)\n",
    "print(\"Total logins:\", total_logins)\n",
    "print(\"Failed logins:\", failed_logins)\n",
    "print(\"Unusual logins:\", unusual_logins)"
   ]
  },
  {
   "cell_type": "markdown",
   "metadata": {},
   "source": [
    "La salida indica que hay un `\"NameError\"` que involucra la variable `inusual_logins`. Puedes corregirlo si asignas un valor a esta variable.\n",
    "\n",
    "Además de los errores de nombre, se generan los siguientes mensajes para otros tipos de excepciones:\n",
    "\n",
    "- `\"IndexError\"`: Se genera un error de índice al colocar un índice con notación entre corchetes que no existe en la secuencia a la que se hace referencia. Por ejemplo, en la lista `usernames = [\"bmoreno\", \"tshah\", \"elarson\"]`, los índices son `0`, `1` y `2`. Si hiciste referencia a esta lista con la sentencia `print(usernames[3])`, se generará un error de índice.\n",
    "\n",
    "- `\"TypeError\"`: Se genera un error de tipo al usar el tipo de datos incorrecto. Por ejemplo, si para realizar un cálculo matemático, agregaste un valor de cadena a un número entero, obtendrás un error de tipo.\n",
    "\n",
    "- `\"FileNotFound\"`: Se genera un error de archivo no encontrado si intentas abrir un archivo que no existe en la ubicación especificada.\n",
    "\n",
    "### Estrategias de depuración \n",
    "Ten en cuenta que si tienes varios errores, el intérprete de Python emitirá mensajes de error de uno en uno, comenzando con el primer error que encuentre. Después de corregir ese error y volver a ejecutar el código, el intérprete emitirá otro mensaje para el siguiente error de sintaxis o excepción.\n",
    "\n",
    "Cuando se trata de errores de sintaxis, los mensajes de error que se generan suelen ayudarte a corregir el error. Sin embargo, cuando se trata de errores lógicos y excepciones, es posible que necesites otras estrategias.\n",
    "\n",
    "#### Depuradores \n",
    "En este curso, estuviste ejecutando código en un entorno de cuaderno. Sin embargo, puedes escribir código Python en un entorno de desarrollo integrado (IDE). Un **entorno de desarrollo integrado (IDE)** es una aplicación de software para escribir código que brinda asistencia de edición y herramientas de corrección de errores. Muchos IDE ofrecen herramientas de detección de errores en forma de depurador. Un **depurador** es una herramienta de software que ayuda a localizar el origen de un error y evaluar sus causas.\n",
    "\n",
    "Cuando no puedas encontrar la línea de código que está causando el problema, los depuradores te ayudan a acotar el origen del error en tu programa mediante puntos de ruptura. Estos son marcadores que se colocan en ciertas líneas de código ejecutable e indican qué secciones de código deben ejecutarse al depurar.\n",
    "\n",
    "Algunos depuradores también tienen una función que permite verificar los valores almacenados en las variables a medida que van cambiando en todo el código. Esto es especialmente útil en los errores lógicos, para que puedas localizar dónde se cambiaron involuntariamente los valores de las variables. \n",
    "\n",
    "#### Uso de sentencias print \n",
    "Otra estrategia de depuración es incorporar sentencias print temporales que estén diseñadas para identificar el origen del error. Debes incorporarlas estratégicamente para que se impriman en diversas ubicaciones del código. Puedes especificar números de línea, así como texto descriptivo acerca de la ubicación. \n",
    "\n",
    "Por ejemplo, es posible que tengas un código destinado a agregar nuevos usuarios a una lista aprobada y, luego, a mostrar esa lista aprobada. El código no debería agregar usuarios que ya están en la lista aprobada. Cuando analices la salida de este código después de ejecutarlo, te darás cuenta de que hay un error lógico:"
   ]
  },
  {
   "cell_type": "code",
   "execution_count": null,
   "metadata": {},
   "outputs": [],
   "source": [
    "new_users = [\"sgilmore\", \"bmoreno\"]\n",
    "approved_users = [\"bmoreno\", \"tshah\", \"elarson\"]\n",
    "def add_users():\n",
    "    for user in new_users:\n",
    "        if user in approved_users:\n",
    "            print(user,\"already in list\")\n",
    "        approved_users.append(user)\n",
    "add_users()\n",
    "print(approved_users)"
   ]
  },
  {
   "cell_type": "markdown",
   "metadata": {},
   "source": [
    "Aunque obtengas el mensaje `\"bmoreno already in list\"`, se agrega una segunda instancia de `\"bmoreno\"` a la lista. En el siguiente código, se agregaron sentencias print al código. Al ejecutarlo, puedes examinar qué es lo que imprime:"
   ]
  },
  {
   "cell_type": "code",
   "execution_count": null,
   "metadata": {},
   "outputs": [],
   "source": [
    "new_users = [\"sgilmore\", \"bmoreno\"]\n",
    "approved_users = [\"bmoreno\", \"tshah\", \"elarson\"]\n",
    "def add_users():\n",
    "    for user in new_users:\n",
    "        print(\"line 5 - inside for loop\")\n",
    "        if user in approved_users:\n",
    "            print(\"line 7 - inside if statement\")\n",
    "            print(user,\"already in list\")\n",
    "        print(\"line 9 - before .append method\")\n",
    "        approved_users.append(user)\n",
    "add_users()\n",
    "print(approved_users)"
   ]
  },
  {
   "cell_type": "markdown",
   "metadata": {},
   "source": [
    "La sentencia print `\"line 5 - inside for loop\"` aparece dos veces, lo que indica que Python ingresó el bucle `for` para cada nombre de usuario en `new_users`. Esto es lo esperado. Además, la sentencia print `\"line 7 - inside if statement\"` solo aparece una vez, y esto también es lo esperado porque solo uno de estos nombres de usuario ya estaba en `approved_users`.\n",
    "\n",
    "Sin embargo, la sentencia print `\"line 9 - before .append method\"` sale dos veces. Esto significa que el código llama al método `.append()` para ambos nombres de usuario, aunque uno de ellos ya está en `approved_users`. Esto ayuda a aislar el error lógico a esta área, y puede hacer que te des cuenta de que la línea de código `approved_users.append(user)` debería ser el cuerpo de una sentencia `else` para que solo se ejecute cuando `user` no esté en `approved_users`.\n",
    "\n",
    "### Conclusiones clave\n",
    "Hay tres tipos principales de errores que encontrarás al codificar en Python. Los errores de sintaxis implican un uso no válido del lenguaje de programación. Los errores lógicos se generan cuando la lógica producida en el código produce resultados no deseados. Las excepciones involucran código que no se puede ejecutar aunque sea sintácticamente correcto. Recibirás mensajes de error para errores de sintaxis y excepciones que pueden ayudarte a corregir estos errores. Además, usar depuradores e insertar sentencias print pueden ayudarte a identificar errores lógicos y otras excepciones de depuración. "
   ]
  }
 ],
 "metadata": {
  "kernelspec": {
   "display_name": "Python 3",
   "language": "python",
   "name": "python3"
  },
  "language_info": {
   "codemirror_mode": {
    "name": "ipython",
    "version": 3
   },
   "file_extension": ".py",
   "mimetype": "text/x-python",
   "name": "python",
   "nbconvert_exporter": "python",
   "pygments_lexer": "ipython3",
   "version": "3.11.9"
  }
 },
 "nbformat": 4,
 "nbformat_minor": 2
}
