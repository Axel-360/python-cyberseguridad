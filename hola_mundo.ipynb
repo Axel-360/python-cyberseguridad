{
 "cells": [
  {
   "cell_type": "markdown",
   "metadata": {},
   "source": [
    "Para imprimir por consola se usa la función `print`"
   ]
  },
  {
   "cell_type": "code",
   "execution_count": 4,
   "metadata": {},
   "outputs": [
    {
     "name": "stdout",
     "output_type": "stream",
     "text": [
      "Hola mundo!!\n"
     ]
    }
   ],
   "source": [
    "print(\"Hola mundo!!\")"
   ]
  },
  {
   "cell_type": "markdown",
   "metadata": {},
   "source": [
    "Para crear variables se escribe el nombre de la variable seguido por el caracter `=` y el valor de la variable."
   ]
  },
  {
   "cell_type": "code",
   "execution_count": 5,
   "metadata": {},
   "outputs": [],
   "source": [
    "saludo = \"Hola mundo!!\""
   ]
  },
  {
   "cell_type": "markdown",
   "metadata": {},
   "source": [
    "Para imprimir una variable se usa la función `print`. Los cuadernos de Jupyter permiten acceder a las variables desde <br>\n",
    "cualquier celda."
   ]
  },
  {
   "cell_type": "code",
   "execution_count": 6,
   "metadata": {},
   "outputs": [
    {
     "name": "stdout",
     "output_type": "stream",
     "text": [
      "Hola mundo!!\n"
     ]
    }
   ],
   "source": [
    "print(saludo)"
   ]
  },
  {
   "cell_type": "markdown",
   "metadata": {},
   "source": [
    "Para imprimir la suma de números por consola."
   ]
  },
  {
   "cell_type": "code",
   "execution_count": 12,
   "metadata": {},
   "outputs": [
    {
     "name": "stdout",
     "output_type": "stream",
     "text": [
      "2\n",
      "4.0\n"
     ]
    }
   ],
   "source": [
    "#Dato Entero\n",
    "print(1+1)\n",
    "#Dato Float \n",
    "print(1.2 + 2.8)\n"
   ]
  },
  {
   "cell_type": "markdown",
   "metadata": {},
   "source": [
    "Los símbolos `<` y `>` se utilizan para comparar números y determinar si uno es menor o mayor que otro."
   ]
  },
  {
   "cell_type": "code",
   "execution_count": 8,
   "metadata": {},
   "outputs": [
    {
     "name": "stdout",
     "output_type": "stream",
     "text": [
      "False\n",
      "True\n"
     ]
    }
   ],
   "source": [
    "print(10<5)\n",
    "print(9<12)"
   ]
  },
  {
   "cell_type": "markdown",
   "metadata": {},
   "source": [
    "Creación de una lista en Python utilizando corchetes `[]`"
   ]
  },
  {
   "cell_type": "code",
   "execution_count": 11,
   "metadata": {},
   "outputs": [
    {
     "name": "stdout",
     "output_type": "stream",
     "text": [
      "['David', 'Ziortza', 'Ricard']\n"
     ]
    }
   ],
   "source": [
    "#Imprimir una lista\n",
    "print([\"David\", \"Ziortza\", \"Ricard\"])"
   ]
  },
  {
   "cell_type": "markdown",
   "metadata": {},
   "source": [
    "# Tipos de datos\n",
    "\n",
    "## Cadena\n",
    "\n",
    "En Python, las **cadenas** son datos que constan de una secuencia ordenada de caracteres. Los caracteres de una cadena pueden incluir letras, números, símbolos y espacios. Estos deben colocarse entre comillas. A continuación, verás una serie de cadenas válidas:\n",
    "\n",
    "- `\"actualizaciones necesarias\"`\n",
    "- `\"20%\"`\n",
    "- `\"5.0\"`\n",
    "- `\"35\"`\n",
    "- `\"**/**/**\"`\n",
    "- `\"\"`\n",
    "\n",
    "**Nota:** El último elemento `(\"\")` que no contiene nada entre comillas, se denomina cadena vacía.\n",
    "\n",
    "Puedes usar la función `print()` para mostrar una cadena. Puedes explorar esto ejecutando este código.\n"
   ]
  },
  {
   "cell_type": "code",
   "execution_count": null,
   "metadata": {},
   "outputs": [],
   "source": [
    "print(\"actualizaciones necesarias\")"
   ]
  },
  {
   "cell_type": "markdown",
   "metadata": {},
   "source": [
    "El código imprime \"`actualizaciones necesarias`\".\n",
    "\n",
    "Las cadenas pueden ir entre comillas dobles (`\"\"`) o simples (`''`). El siguiente código demuestra que el mismo mensaje se imprime cuando la cadena está entre comillas simples:\n"
   ]
  },
  {
   "cell_type": "code",
   "execution_count": null,
   "metadata": {},
   "outputs": [],
   "source": [
    "print('actualizaciones necesarias')"
   ]
  },
  {
   "cell_type": "markdown",
   "metadata": {},
   "source": [
    "**Nota:** Elegir un tipo de comillas y utilizarlo de forma consistente facilita la lectura del código."
   ]
  },
  {
   "cell_type": "markdown",
   "metadata": {},
   "source": [
    "## Lista\n",
    "\n",
    "En Python, una **lista** es una estructura que consta de una serie de datos en forma secuencial. Los elementos de las listas pueden ser de cualquier tipo de datos, como cadenas, enteros, booleanos o, incluso, otras listas. Los elementos de una lista se colocan entre corchetes y cada elemento se separa con una coma. La siguiente lista contiene elementos de varios tipos de datos:\n",
    "\n",
    "- `[12, 36, 54, 1, 7]`\n",
    "- `[\"eraab\", \"arusso\", \"drosas\"]`\n",
    "- `[True, False, True, True]`\n",
    "- `[15, \"approved\", True, 45.5, False]`\n",
    "- `[]`\n",
    "\n",
    "**Nota:** El último elemento `[]`, que no contiene nada entre corchetes, se denomina lista vacía.\n",
    "\n",
    "También puedes usar la función `print()` para mostrar una lista:"
   ]
  },
  {
   "cell_type": "code",
   "execution_count": null,
   "metadata": {},
   "outputs": [],
   "source": [
    "print([12, 36, 54, 1, 7])"
   ]
  },
  {
   "cell_type": "markdown",
   "metadata": {},
   "source": [
    "Esto muestra una lista que contiene los números entero `12`, `36`, `54`, `1`, y `7`."
   ]
  },
  {
   "cell_type": "markdown",
   "metadata": {},
   "source": [
    "## Enteros\n",
    "\n",
    "En Python, los datos enteros son datos formados por un número sin punto decimal. A continuación, verás ejemplos de datos enteros:\n",
    "\n",
    "- `-100` \n",
    "- `-12`\n",
    "- `-1`\n",
    "- `0`\n",
    "- `1`\n",
    "- `20`\n",
    "- `500` \n",
    "\n",
    "Los enteros no se colocan entre comillas. Puedes usar la función `print()` para mostrar un número entero. Cuando ejecutas este código, muestra el número `5`:\n"
   ]
  },
  {
   "cell_type": "code",
   "execution_count": null,
   "metadata": {},
   "outputs": [],
   "source": [
    "print(5)"
   ]
  },
  {
   "cell_type": "markdown",
   "metadata": {},
   "source": [
    "También puedes utilizar la función `print()` para realizar operaciones matemáticas con números enteros. Por ejemplo, este código suma dos enteros:"
   ]
  },
  {
   "cell_type": "code",
   "execution_count": null,
   "metadata": {},
   "outputs": [],
   "source": [
    "print(5 + 2)"
   ]
  },
  {
   "cell_type": "markdown",
   "metadata": {},
   "source": [
    "El resultado es `7`. También, puedes restar, multiplicar o dividir dos números enteros."
   ]
  },
  {
   "cell_type": "markdown",
   "metadata": {},
   "source": [
    "## Float\n",
    "\n",
    "Los **datos float (de punto flotante)** son datos formados por un número con un punto decimal. A continuación, verás ejemplos de datos flotantes: \n",
    "\n",
    "- `-2.2`\n",
    "- `-1.34`\n",
    "- `0.0`\n",
    "- `0.34` \n",
    "\n",
    "Al igual que los datos enteros, los float no se colocan entre comillas. Además, también puedes utilizar la función `print()` para mostrar float o realizar cálculos matemáticos con ellos. Puedes ejecutar el siguiente código para revisar el resultado de este cálculo:\n"
   ]
  },
  {
   "cell_type": "code",
   "execution_count": 13,
   "metadata": {},
   "outputs": [
    {
     "name": "stdout",
     "output_type": "stream",
     "text": [
      "4.0\n"
     ]
    }
   ],
   "source": [
    "print(1.2 + 2.8)"
   ]
  },
  {
   "cell_type": "markdown",
   "metadata": {},
   "source": [
    "El resultado es `4.0`."
   ]
  },
  {
   "cell_type": "markdown",
   "metadata": {},
   "source": [
    "**Nota:** La división de dos valores enteros o dos valores float da como resultado una salida float cuando se utiliza el símbolo `/`:"
   ]
  },
  {
   "cell_type": "code",
   "execution_count": null,
   "metadata": {},
   "outputs": [],
   "source": [
    "print(1/4)\n",
    "print(1.0/4.0)"
   ]
  },
  {
   "cell_type": "markdown",
   "metadata": {},
   "source": [
    "La salida de ambos cálculos es el valor float de `.25`.  \n",
    "\n",
    "Si deseas devolver un valor entero de un cálculo que divide dos números enteros, debes usar el símbolo `//` en su lugar:"
   ]
  },
  {
   "cell_type": "code",
   "execution_count": null,
   "metadata": {},
   "outputs": [],
   "source": [
    "print(1//4)"
   ]
  },
  {
   "cell_type": "markdown",
   "metadata": {},
   "source": [
    "En este caso, la salida es el valor entero `0`, ya que el uso de este símbolo redondea el cálculo de `.25` al entero más cercano."
   ]
  },
  {
   "cell_type": "markdown",
   "metadata": {},
   "source": [
    "## Booleanos\n",
    "\n",
    "Los datos booleanos son datos que solo pueden tener uno de dos valores: `True` (verdadero) o `False` (falso).\n",
    "\n",
    "No debes colocar los valores booleanos entre comillas. Al ejecutar el siguiente código, se muestra el valor booleano `True`:\n"
   ]
  },
  {
   "cell_type": "code",
   "execution_count": null,
   "metadata": {},
   "outputs": [],
   "source": [
    "print(True)"
   ]
  },
  {
   "cell_type": "markdown",
   "metadata": {},
   "source": [
    "También puedes devolver un valor booleano comparando números. Como `9` no es mayor que `10`, este código se evalúa como `False`:"
   ]
  },
  {
   "cell_type": "code",
   "execution_count": null,
   "metadata": {},
   "outputs": [],
   "source": [
    "print(9 > 10)"
   ]
  },
  {
   "cell_type": "markdown",
   "metadata": {},
   "source": [
    "## Tipos de datos adicionales\n",
    "\n",
    "En este texto, exploraremos los tipos de datos cadena, lista, entero, float y booleano, además de otros tipos de datos adicionales como tuplas, diccionarios y conjuntos.\n",
    "\n",
    "### Tupla\n",
    "\n",
    "Una **tupla** consta de un conjunto de datos que no se pueden modificar. Al igual que las listas, las tuplas pueden contener elementos de distintos tipos de datos.\n",
    "\n",
    "Una diferencia entre los datos de tupla y los de lista es que es posible modificar los elementos en una lista, pero no es posible hacerlo en una tupla. Esto podría ser útil en un contexto de ciberseguridad. Por ejemplo, si se almacenan identificadores de software en una tupla para garantizar que no serán alterados, esto puede brindar la certeza de que una lista de control de acceso solo bloqueará el software previsto.\n",
    "\n",
    "La sintaxis de una tupla también es diferente de la de una lista. Una tupla se coloca entre paréntesis en lugar de entre corchetes. A continuación, verás ejemplos de tuplas:\n",
    "\n",
    "- `(\"wjaffrey\", \"arutley\", \"dkot\")`\n",
    "- `(46, 2, 13, 2, 8, 0, 0)`\n",
    "- `(True, False, True, True)`\n",
    "- `(\"wjaffrey\", 13, True)`\n",
    "\n",
    "**Consejo profesional:** Las tuplas son más eficientes en cuanto a memoria que las listas, por lo cual resultan útiles cuando se trabaja con una gran cantidad de datos.\n",
    "\n",
    "### Diccionario\n",
    "\n",
    "Un **diccionario** consiste en una o más parejas clave-valor. Cada clave se asigna a un valor. Entre la clave y el valor se intercalan dos puntos (`:`). Las comas separan las parejas clave-valor de otras parejas clave-valor, y el diccionario se coloca entre llaves (`{}`) \n",
    "\n",
    "Los diccionarios son útiles para almacenar y recuperar datos de forma predecible. Por ejemplo, el siguiente diccionario asigna un nombre de un edificio a un número. El nombre del edificio es el valor y el número es la clave. Después de la clave se colocan dos puntos.\n",
    "\n",
    "```python\n",
    "{ 1: \"East\",\n",
    "  2: \"West\",\n",
    "  3: \"North\",\n",
    "  4: \"South\" }"
   ]
  },
  {
   "cell_type": "markdown",
   "metadata": {},
   "source": [
    "### Conjunto\n",
    "\n",
    "En Python, un conjunto es una colección desordenada de valores únicos. Esto significa que no puede haber dos valores iguales en un conjunto. \n",
    "\n",
    "Los elementos de un conjunto siempre se colocan entre llaves y se separan con una coma. Estos elementos pueden ser de cualquier tipo de datos. Este ejemplo de conjunto contiene cadenas de nombres de usuario:\n",
    "\n",
    "```python\n",
    "{\"jlanksy\", \"drosas\", \"nmason\"}\n"
   ]
  },
  {
   "cell_type": "markdown",
   "metadata": {},
   "source": [
    "# Asigna y reasigna variables en Python\n",
    "\n",
    "Anteriormente, exploraste las variables y cómo asignarlas y reasignarlas en Python. En esta lectura, ampliarás tu comprensión sobre estos temas. También, aprenderás sobre la práctica general de nombrar variables para evitar errores de sintaxis y mejorar la legibilidad del código. \n",
    "\n",
    "## ¿Qué son las variables?\n",
    "\n",
    "En un lenguaje de programación, una **variable** es un contenedor que almacena datos. Es una ubicación de almacenamiento con nombre en la memoria de una computadora que puede contener un valor. Almacena los datos en un tipo de dato específico, como entero, cadena o booleano. El valor que se almacena en una variable puede cambiar. \n",
    "\n",
    "Puedes pensar en las variables como cajas con etiquetas. Aunque cambies el contenido de una caja, su etiqueta permanece igual. De manera similar, cuando cambias el valor almacenado en una variable, el nombre de esta sigue siendo el mismo. \n",
    "\n",
    "Los analistas de seguridad que trabajan en Python utilizarán distintas variables. Algunos ejemplos incluyen variables para intentos de inicio de sección, listas de permisos y direcciones.\n",
    "\n",
    "## Trabajar con variables\n",
    "\n",
    "En Python, es importante saber cómo asignar variables y cómo reasignarlas.\n",
    "\n",
    "### Asignación y reasignación de variables\n",
    "\n",
    "Si deseas crear una variable llamada `username` y asignarle un valor de `\"nzhao\"`, coloca la variable a la izquierda del signo igual y su valor a la derecha:\n",
    "\n",
    "```python\n",
    "# Asigna 'username' \n",
    "username = \"nzhao\"\n",
    "username = \"nzhao\"\n",
    "```\n",
    "\n",
    "Si luego restableces este nombre de usuario a \"`zhao2`\", seguirás refiriéndote a ese contenedor de variable como username. \n",
    "\n",
    "```python\n",
    "# Reasigna 'username' \n",
    "username = \"zhao2\"\n",
    "```\n",
    "\n",
    "Aunque el contenido haya cambiado de \"nzhao\" a \"zhao2\", la variable `username` seguirá siendo la misma.\n",
    "\n",
    "**Nota:** Debes colocar `\"nzhao\"` y `\"zhao2\"` entre comillas porque son cadenas. Python asigna automáticamente a una variable su tipo de datos cuando se ejecuta. Por ejemplo, cuando la variable `username` contiene la cadena `\"nzhao\"`, se le asigna un tipo de datos de cadena.\n",
    "\n",
    "### Asignar variables a otras variables\n",
    "\n",
    "Mediante un proceso similar, también puedes asignar variables a otras variables. En el siguiente ejemplo, la variable `username` se asigna a una nueva variable `old_username`: \n",
    "\n",
    "```python\n",
    "# Asignar una variable a otra variable\n",
    "username = \"nzhao\"\n",
    "old_username = username\n",
    "```\n",
    "\n",
    "Como `username` contiene el valor de cadena de `\"nzhao\"` y `old_username` contiene el valor de `username`, `old_username` ahora contiene el valor de `\"nzhao\"`.\n",
    "\n",
    "### Combinar todo\n",
    "\n",
    "El siguiente código demuestra cómo se puede actualizar un nombre de usuario. A la variable `username` se le asigna un valor inicial, el cual luego se almacena en una segunda variable llamada `old_username`. Después de esto, a la variable `username` se le reasigna un nuevo valor. Puedes ejecutar este código para obtener un mensaje sobre el nombre de usuario anterior y el nombre de usuario actual:\n",
    "\n",
    "\n",
    "\n",
    "\n",
    "\n",
    "\n",
    "\n"
   ]
  },
  {
   "cell_type": "code",
   "execution_count": null,
   "metadata": {},
   "outputs": [],
   "source": [
    "username = \"nzhao\"\n",
    "old_username = username\n",
    "username = \"zhao2\"\n",
    "print(\"Previous username:\", old_username)\n",
    "print(\"Current username:\", username)"
   ]
  },
  {
   "cell_type": "markdown",
   "metadata": {},
   "source": [
    "## Prácticas recomendadas para nombrar variables\n",
    "\n",
    "Puedes nombrar una variable casi como quieras, pero hay algunas pautas que debes seguir para asegurar una sintaxis correcta y evitar errores:\n",
    "\n",
    "- Usa solo letras, números y guiones bajos en los nombres de las variables. Ejemplos válidos: `date_3`, `username`, `interval2`\n",
    "\n",
    "- Comienza el nombre de una variable con una letra o un guion bajo. No empieces con un número. Ejemplos válidos: `time`, `_login`\n",
    "\n",
    "- Recuerda que los nombres de variables en Python distinguen entre mayúsculas y minúsculas. Todas estas son variables diferentes: `time`, `Time`, `TIME`, `timE`.\n",
    "\n",
    "- No utilices las palabras clave o funciones integradas de Python para nombres de variables. Por ejemplo, las variables no deben llamarse `True`, `False`, o `if`.\n",
    "\n",
    "Además, debes seguir estas pautas de estilo para que tu código sea más fácil de leer y comprender:\n",
    "\n",
    "- Separa dos o más palabras con guiones bajos. Ejemplos válidos: `login_attempts`, `invalid_user`, `status_update`\n",
    "\n",
    "- Evita variables con nombres similares. Estas variables podrían confundirse fácilmente entre sí: `start_time`, `starting_time`, `time_starting`.\n",
    "\n",
    "- Evita nombres innecesariamente largos para las variables. Por ejemplo, no des a las variables nombres como `variable_that_equals_3`.\n",
    "\n",
    "- Los nombres deben describir los datos y no ser palabras aleatorias. Ejemplos válidos: `num_login_attempts`, `device_id`, `invalid_usernames`\n",
    "\n",
    "**Nota:** Se recomienda usar guiones bajos para separar varias palabras en las variables, pero otra convención que puedes encontrar es escribir con mayúscula la primera letra de cada palabra, excepto la primera palabra. Ejemplo: `loginAttempt`\n"
   ]
  },
  {
   "cell_type": "markdown",
   "metadata": {},
   "source": [
    "# Condicionales en Python\n",
    "\n",
    "Anteriormente, exploraste las sentencias condicionales y su utilidad en la automatización de tareas en Python. Hasta ahora, te centraste en las palabras clave `if` y `else`. En esta lección, las repasarás y aprenderás otra palabra clave, `elif`. También, aprenderás cómo puedes aplicar los operadores `and`, `or`, y `not` a tus condiciones.\n",
    "\n",
    "## Cómo funcionan las sentencias condicionales\n",
    "\n",
    "Una *sentencia condicional* es una sentencia que evalúa código para determinar si cumple con un conjunto específico de condiciones. Cuando una condición se cumple, se evalúa como un valor booleano `True` (verdadero) y realiza las acciones especificadas. Cuando la condición no se cumple, se evalúa como un valor booleano `False` (falso) y no realiza las acciones especificadas.\n",
    "\n",
    "En las sentencias condicionales, la condición suele basarse en la comparación de dos valores. Esta tabla resume los operadores de comparación más comunes utilizados para comparar valores numéricos.\n",
    "\n",
    "| Operador | Significado    |\n",
    "|----------|----------------|\n",
    "| >        | mayor que      |\n",
    "| <        | menor que      |\n",
    "| >=       | mayor o igual que |\n",
    "| <=       | menor o igual que |\n",
    "| ==       | igual que      |\n",
    "| !=       | no igual que   |\n",
    "\n",
    "*Nota:* Los operadores igual a (`==`) y no igual que (`!=`) también se usan habitualmente para comparar datos de cadena.\n",
    "\n",
    "\n",
    "## Sentencias if\n",
    "\n",
    "La palabra clave `if` inicia una sentencia condicional. Es un componente necesario de cualquier sentencia condicional. En el siguiente ejemplo, `if` comienza una sentencia que le indica a Python que imprima el mensaje \"OK\" cuando el código de estado de la respuesta HTTP sea igual a 200:\n",
    "\n",
    "```python\n",
    "if status == 200:\n",
    "    print(\"OK\")\n",
    "```\n",
    "Este código consiste en un encabezado y un cuerpo.\n",
    "\n",
    "### Encabezado de una sentencia if\n",
    "\n",
    "La primera línea de este código es el encabezado. En el encabezado de una sentencia `if`, la palabra clave `if` va seguida de la condición. Aquí, la condición es que la variable `status` sea igual a un valor de 200. La condición se puede colocar entre paréntesis:\n",
    "\n",
    "```python\n",
    "if (status == 200):\n",
    "    print(\"OK\")\n",
    "```\n",
    "En casos como este, es opcional colocar paréntesis alrededor de las condiciones en Python. Puedes optar por incluirlos si te ayuda a mejorar la legibilidad del código. Sin embargo, esta condición será procesada de la misma manera si se escribe sin paréntesis. \n",
    "\n",
    "En otras situaciones, debido a que Python evalúa primero las condiciones entre paréntesis, estos pueden afectar la manera en que Python procesa las condiciones. Leerás más sobre estos casos en la sección de esta lectura sobre `not`.\n",
    "\n",
    "*Nota:* Siempre debes colocar dos puntos (`:`) al final del encabezado. Sin esta sintaxis, el código generará un error.\n",
    "\n",
    "### Cuerpo de una sentencia if\n",
    "\n",
    "Después del encabezado de una sentencia `if`, viene el cuerpo de la sentencia `if`. Esto le indica a Python qué acción o acciones realizar cuando la condición se evalúa como `True`. En este ejemplo, hay solo una acción, que consiste en imprimir \"OK\" en la pantalla. En otros casos, puede haber más líneas de código con acciones adicionales.\n",
    "\n",
    "*Nota:* Para que el cuerpo de la sentencia `if` se ejecute según lo previsto, debe tener más sangría que el encabezado. Además, si hay varias líneas de código dentro del cuerpo, todas deben tener la misma sangría. \n",
    "\n",
    "## Condicionales continuos con else y elif\n",
    "\n",
    "En el ejemplo anterior, si el código de respuesta de estado HTTP no fuera igual a `200`, la condición se evaluaría como `False` y Python continuaría con el resto del programa. Sin embargo, también es posible especificar acciones alternativas con `else` y `elif`.\n",
    "\n",
    "### Sentencias else\n",
    "\n",
    "La palabra clave `else` precede a una sección de código que solo se evalúa cuando todas las condiciones que la preceden dentro de la sentencia condicional se evalúan como `False`.\n",
    "\n",
    "En el siguiente ejemplo, cuando el código de estado de respuesta HTTP no es igual a `200`, imprime un mensaje alternativo de `\"check other status\"`:\n",
    "\n",
    "```python\n",
    "if status == 200:\n",
    "    print(\"OK\")\n",
    "else:\n",
    "    print(\"check other status\")\n",
    "```\n",
    "\n",
    "*Nota:* Al igual que con `if`, se requieren dos puntos (`:`) después de `else`, y el cuerpo que sigue al encabezado `else` está sangrado (o sea, tiene sangría).\n",
    "\n",
    "### Sentencias elif\n",
    "\n",
    "En ocasiones, es posible que tengas varias acciones alternativas que dependen de nuevas condiciones. En ese caso, puedes usar `elif`. La palabra clave `elif` precede a una condición que solo se evalúa cuando las condiciones anteriores se evalúan como `False`. A diferencia de `else`, puede haber varias sentencias `elif` después de `if`.\n",
    "\n",
    "Por ejemplo, puedes optar por imprimir un mensaje si el código de estado de respuesta HTTP es `200`, un mensaje si es `400` y otro si es `500`. El siguiente código demuestra cómo puedes utilizar `elif` para esto: \n",
    "\n",
    "```python\n",
    "if status == 200:\n",
    "    print(\"OK\")\n",
    "elif status == 400:\n",
    "    print(\"Bad Request\")\n",
    "elif status == 500:\n",
    "    print(\"Internal Server Error\")\n",
    "```\n",
    "Python verificará primero si el valor de `status` es `200`, y si se evalúa como `False`, pasará a la primera sentencia `elif`. Allí, verificará si el valor de `status` es `400`. Si es `True`, imprimirá \"Bad Request\", pero si es `False`, pasará a la siguiente sentencia `elif`.\n",
    "\n",
    "Si deseas que el código imprima otro mensaje cuando todas las condiciones se evalúen como `False`, puedes incorporar `else` después del último `elif`. En este ejemplo, si llega a la sentencia `else`, imprime un mensaje para verificar el estado:\n",
    "\n",
    "```python\n",
    "if status == 200:\n",
    "    print(\"OK\")\n",
    "elif status == 400:\n",
    "    print(\"Bad Request\")\n",
    "elif status == 500:\n",
    "    print(\"Internal Server Error\")\n",
    "else:\n",
    "    print(\"check other status\")\n",
    "```\n",
    "\n",
    "Al igual que con `if` y `else`, es importante colocar dos puntos (`:`) después del encabezado `elif` y sangrar el código que sigue a este encabezado.\n",
    "\n",
    "*Nota:* Python procesa varias sentencias `elif` de manera diferente a varias sentencias `if`. Cuando llega a una sentencia `elif` que se evalúa como `True`, no verificará las siguientes sentencias `elif`. Por otro lado, Python ejecutará todas las sentencias `if`.\n",
    "\n",
    "## Operadores lógicos para múltiples condiciones\n",
    "\n",
    "En algunos casos, puedes optar por que Python realice una acción basada en una condición más compleja. Podrías requerir que dos condiciones se evalúen como `True`. O bien, que solo una de las dos condiciones se evalúe como `True`. O puedes optar por que Python ejecute una acción cuando una condición se evalúe como `False`. En estos casos se pueden utilizar los operadores `and`, `or`, y `not`.\n",
    "\n",
    "### and\n",
    "\n",
    "El operador `and` requiere que las dos condiciones a ambos lados del operador se evalúen como `True`. Por ejemplo, todos los códigos de estado de respuesta HTTP entre `200` y `226` se refieren a respuestas correctas. Puedes usar `and` para unir una condición que sea mayor o igual a `200` con otra condición que sea menor o igual a `226`:\n",
    "\n",
    "```python\n",
    "if status >= 200 and status <= 226:\n",
    "    print(\"successful response\")\n",
    "```\n",
    "\n",
    "Si ambas condiciones son `True`, se imprimirá el mensaje \"successful response\".\n",
    "\n",
    "### or\n",
    "\n",
    "El operador `or` solo requiere que una de las condiciones a ambos lados del operador se evalúe como `True`. Por ejemplo, tanto un código de estado `100` como un código de estado `102` son respuestas informativas. Usando `or`, podrías pedirle a Python que imprima un mensaje de `\"informational response\"` cuando el código sea `100` o `102`:\n",
    "\n",
    "```python\n",
    "if status == 100 or status == 102:\n",
    "    print(\"informational response\")\n",
    "```\n",
    "\n",
    "Solo es necesario que se cumpla una de estas condiciones para que Python imprima el mensaje.\n",
    "\n",
    "### not\n",
    "\n",
    "El operador `not` niega una condición dada de forma que se evalúe a `False` si la condición es `True` y a `True` si es `False`. Por ejemplo, si deseas indicar que Python debe verificar el código de estado cuando se trata de algo fuera del rango correcto, puedes usar `not`:\n",
    "\n",
    "```python\n",
    "if not(status >= 200 and status <= 226):\n",
    "    print(\"check status\")\n",
    "```\n",
    "Python primero verifica si el valor de `status` es mayor o igual a `200` y menor o igual a `226`, y luego, debido al operador `not`, lo invierte. Esto significa que imprimirá el mensaje si `status` es menor que `200` o mayor que `226`.\n",
    "\n",
    "*Nota:* En este caso, los paréntesis son necesarios para que el código aplique `not` a ambas condiciones. Python evaluará primero las condiciones dentro de los paréntesis. Esto significa que primero evaluará las condiciones a cada lado del operador `and` y luego aplicará `not` a ambas.\n",
    "\n",
    "\n",
    "\n",
    "\n"
   ]
  },
  {
   "cell_type": "markdown",
   "metadata": {},
   "source": [
    "# Los bucles en Python\n",
    "\n",
    "Anteriormente, exploraste las sentencias iterativas. Una sentencia iterativa es un código que ejecuta repetidamente una serie de instrucciones. Dependiendo de los criterios, estas se ejecutan cero o más veces. Hemos iterado a través de código utilizando bucles `for` y bucles `while`. En esta lectura, repasarás la sintaxis de los bucles. Luego, aprenderás a utilizar las palabras clave `break` y `continue` para controlar la ejecución de los bucles. \n",
    "\n",
    "## Bucles for \n",
    "\n",
    "Si necesitas iterar a través de una secuencia especificada, debes usar un bucle `for`. \n",
    "\n",
    "El siguiente bucle `for` itera a través de una secuencia de nombres de usuario. Puedes ejecutarlo para observar la salida:\n"
   ]
  },
  {
   "cell_type": "code",
   "execution_count": null,
   "metadata": {},
   "outputs": [],
   "source": [
    "for i in [\"elarson\", \"bmoreno\", \"tshah\", \"sgilmore\"]:\n",
    "    print(i)"
   ]
  },
  {
   "cell_type": "markdown",
   "metadata": {},
   "source": [
    "La primera línea de este código es el encabezado del bucle. Allí, la palabra clave `for` indica el inicio de un bucle `for`. Justo después de `for`, viene la variable de bucle. La variable de bucle se utiliza para controlar las iteraciones de un bucle. En los bucles `for`, la variable de bucle forma parte del encabezado. En este ejemplo, la variable de bucle es `i`. \n",
    "\n",
    "El resto del encabezado del bucle indica la secuencia a iterar. El operador `in` aparece antes de la secuencia para indicar a Python que ejecute el bucle para cada elemento de la secuencia. En este ejemplo, la secuencia es la lista de nombres de usuario. El encabezado del bucle debe terminar con dos puntos (`:`).\n",
    "\n",
    "La segunda línea de este ejemplo de bucle `for` es el cuerpo del bucle. El cuerpo del bucle `for` puede tener varias líneas de código. En el cuerpo, se indica lo que el bucle debe hacer en cada iteración. En este caso, es `print(i)`, o en otras palabras, mostrar el valor actual de la variable de bucle durante esa iteración del bucle. Para que Python ejecute el código correctamente, el cuerpo del bucle debe tener más sangría que el encabezado del bucle.\n",
    "\n",
    "**Nota:** Cuando se usa en un bucle `for`, el operador `in` precede a la secuencia que iterará el bucle `for`. Cuando se utiliza en una sentencia condicional, el operador `in` se usa para evaluar si un objeto forma parte de una secuencia. El ejemplo `if \"elarson\" in [\"tshah\", \"bmoreno\", \"elarson\"]` se evalúa como `True` porque \"elarson\" forma parte de la secuencia que sigue a `in`.\n",
    "\n",
    "## Recorrer en bucle una lista\n",
    "\n",
    "El uso de bucles `for` en Python permite iterar fácilmente a través de listas, como una lista de activos informáticos. En el siguiente bucle `for`, `asset` es la variable del bucle y otra variable, `computer_assets`, es la secuencia. La variable `computer_assets` almacena una lista. Esto significa que en la primera iteración el valor de `asset` será el primer elemento de esa lista, y en la segunda iteración, el valor de `asset` será el segundo elemento de esa lista. Puedes ejecutar el código para observar qué pasa: \n"
   ]
  },
  {
   "cell_type": "code",
   "execution_count": null,
   "metadata": {},
   "outputs": [],
   "source": [
    "computer_assets = [\"laptop1\", \"desktop20\", \"smartphone03\"]\n",
    "for asset in computer_assets:\n",
    "    print(asset)"
   ]
  },
  {
   "cell_type": "markdown",
   "metadata": {},
   "source": [
    "**Nota:** También es posible hacer un bucle a través de una cadena. Esto devolverá cada carácter uno por uno. Puedes observarlo ejecutando el siguiente bloque de código que itera a través de la cadena \"security\":"
   ]
  },
  {
   "cell_type": "code",
   "execution_count": null,
   "metadata": {},
   "outputs": [],
   "source": [
    "string = \"security\"\n",
    "for character in string:\n",
    "    print(character)"
   ]
  },
  {
   "cell_type": "markdown",
   "metadata": {},
   "source": [
    "Uso de `range()`\n",
    "\n",
    "Otra forma de iterar a través de un bucle `for` es basándose en una secuencia de números, y esto se puede realizar con `range()`. La función `range()` genera una secuencia de números. Acepta entradas para el punto de inicio, el punto de parada y el incremento entre paréntesis. Por ejemplo, el siguiente código indica que la secuencia de números comience en 0, se detenga en 5 y se incremente cada vez en 1:\n",
    "\n",
    "```python\n",
    "range(0, 5, 1)\n",
    "```\n",
    "**Nota:** El punto de inicio es inclusivo, lo que significa que el `0` se incluirá en la secuencia de números, pero el punto de parada es exclusivo, lo que significa que el `5` se excluirá de la secuencia. Concluirá un entero antes del punto de parada.\n",
    "\n",
    "Cuando ejecutes este código, podrás observar cómo el `5` queda excluido de la secuencia:"
   ]
  },
  {
   "cell_type": "code",
   "execution_count": null,
   "metadata": {},
   "outputs": [],
   "source": [
    "for i in range(0, 5, 1):\n",
    "    print(i)"
   ]
  },
  {
   "cell_type": "markdown",
   "metadata": {},
   "source": [
    "Debes considerar que es necesario incluir el punto de parada, pero si el punto de inicio es el valor predeterminado de `0` y el incremento es el valor predeterminado de `1`, no es necesario especificarlos en el código. Si ejecutas este código, obtendrás los mismos resultados:"
   ]
  },
  {
   "cell_type": "code",
   "execution_count": null,
   "metadata": {},
   "outputs": [],
   "source": [
    "for i in range(5):\n",
    "    print(i)"
   ]
  },
  {
   "cell_type": "markdown",
   "metadata": {},
   "source": [
    "**Nota:** Si el punto de inicio es distinto de `0` o el incremento es distinto de `1`, deben especificarse.\n",
    "\n",
    "## Bucles while\n",
    "\n",
    "Si deseas que un bucle itere en función de una condición, debes usar un bucle `while`. Mientras la condición sea `True`, el bucle continúa, pero cuando se evalúa como `False`, se sale del bucle `while`. El siguiente bucle `while` continúa mientras la condición de que `i < 5` sea `True`:\n"
   ]
  },
  {
   "cell_type": "code",
   "execution_count": null,
   "metadata": {},
   "outputs": [],
   "source": [
    "i = 1\n",
    "while i < 5:\n",
    "    print(i)\n",
    "    i = i + 1"
   ]
  },
  {
   "cell_type": "markdown",
   "metadata": {},
   "source": [
    "En este bucle `while`, el encabezado del bucle es la línea `while i < 5:`. A diferencia de los bucles `for`, el valor de una variable de bucle utilizada para controlar las iteraciones no se asigna dentro del encabezado del bucle en un bucle `while`. En su lugar, se asigna fuera del bucle. En este ejemplo, a `i` se le asigna un valor inicial de `1` en una línea que precede al bucle.\n",
    "\n",
    "La palabra clave `while` indica el comienzo de un bucle `while`. Después de esto, el encabezado del bucle indica la condición que determina cuándo termina el bucle. Esta condición utiliza los mismos operadores de comparación que las sentencias condicionales. Al igual que en un bucle `for`, el encabezado de un bucle `while` debe terminar con dos puntos (`:`).\n",
    "\n",
    "El cuerpo de un bucle `while` indica las acciones a realizar en cada iteración. En este ejemplo, es mostrar el valor de `i` e incrementar el valor de `i` en `1`. Para que el valor de `i` cambie con cada iteración, es necesario indicarlo en el cuerpo del bucle `while`. En este ejemplo, el bucle itera cuatro veces hasta que alcanza un valor de `5`.\n",
    "\n",
    "### Números enteros en la condición del bucle\n",
    "\n",
    "Usualmente, como se acaba de demostrar, la condición del bucle se basa en valores enteros. Por ejemplo, puedes optar por permitir que un usuario inicie sesión siempre y cuando lo haya intentado menos de cinco veces. Entonces, tu variable de bucle, `login_attempts`, se puede inicializar a `0`, incrementar en `1` en el bucle, y la condición del bucle puede especificar iterar solo cuando la variable sea menor que `5`. Puedes ejecutar el código a continuación y revisar el recuento de cada intento:\n"
   ]
  },
  {
   "cell_type": "code",
   "execution_count": null,
   "metadata": {},
   "outputs": [],
   "source": [
    "login_attempts = 0\n",
    "while login_attempts < 5:\n",
    "    print(\"Login attempts:\", login_attempts)\n",
    "    login_attempts = login_attempts + 1"
   ]
  },
  {
   "cell_type": "markdown",
   "metadata": {},
   "source": [
    "El valor de `login_attempts` pasó de `0` a `4` antes de que la condición del bucle se evaluara a `False`. Por lo tanto, los valores de `0` a `4` se imprimen, y el valor `5` no se imprime.\n",
    "\n",
    "### Valores booleanos en la condición del bucle\n",
    "\n",
    "Las condiciones en los bucles `while` también pueden depender de otros tipos de datos, incluidas las comparaciones de datos booleanos. En estas, la condición del bucle puede comprobar si una variable del bucle es igual a un valor como `True` o `False`. El bucle itera un número indeterminado de veces hasta que la condición booleana deja de ser `True`. \n",
    "\n",
    "En el siguiente ejemplo, se usa un valor booleano para salir de un bucle cuando un usuario ha realizado cinco intentos de inicio de sesión. Una variable llamada `count` mantiene un registro de cada intento de inicio de sesión y cambia la variable `login_status` a `False` cuando `count` es igual a `4`. (Incrementar `count` de `0` a `4` representa cinco intentos de inicio de sesión). Dado que la condición `while` solo itera cuando `login_status` es `True`, saldrá del bucle. Puedes ejecutar esto para explorar esta salida:\n"
   ]
  },
  {
   "cell_type": "code",
   "execution_count": null,
   "metadata": {},
   "outputs": [],
   "source": [
    "count = 0\n",
    "login_status = True\n",
    "while login_status == True:\n",
    "    print(\"Try again.\")\n",
    "    count = count + 1\n",
    "    if count == 4:\n",
    "        login_status = False"
   ]
  },
  {
   "cell_type": "markdown",
   "metadata": {},
   "source": [
    "El código imprime un mensaje para intentarlo de nuevo cuatro veces, pero sale del bucle una vez que `login_status` se establece en `False`.\n",
    "\n",
    "## Gestión de bucles\n",
    "\n",
    "Puedes usar las palabras clave `break` y `continue` para tener un control adicional sobre las iteraciones del bucle. Ambas se incorporan a una sentencia condicional dentro del cuerpo del bucle. Se pueden insertar para que se ejecuten cuando la condición en una sentencia `if` es `True`. La palabra clave `break` se utiliza para salir de un bucle. Asimismo, la palabra clave `continue` se emplea para omitir una iteración y continuar con la siguiente. \n",
    "\n",
    "### break\n",
    "\n",
    "Cuando quieras salir de un bucle `for` o `while` basándote en que una condición particular de una sentencia `if` sea `True`, puedes escribir una sentencia condicional en el cuerpo del bucle e incluir la palabra clave `break` en el cuerpo de la condicional. \n",
    "\n",
    "El siguiente ejemplo lo demuestra. La sentencia condicional con `break` indica a Python que salga del bucle `for` si el valor de la variable `asset` del bucle es igual a \"desktop20\". En la segunda iteración, esta condición se evalúa como `True`. Puedes ejecutar este código para observar esto en la salida:\n"
   ]
  },
  {
   "cell_type": "code",
   "execution_count": null,
   "metadata": {},
   "outputs": [],
   "source": [
    "computer_assets = [\"laptop1\", \"desktop20\", \"smartphone03\"]\n",
    "for asset in computer_assets:\n",
    "    if asset == \"desktop20\":\n",
    "        break\n",
    "    print(asset)"
   ]
  },
  {
   "cell_type": "markdown",
   "metadata": {},
   "source": [
    "Como era de esperar, los valores de `\"desktop20\"` y `\"smartphone03\"` no se imprimen porque el bucle se rompe en la segunda iteración.\n",
    "\n",
    "## continue\n",
    "\n",
    "Cuando desees omitir una iteración basándote en que cierta condición de una sentencia `if` sea `True`, puedes agregar la palabra clave `continue` en el cuerpo de una sentencia condicional dentro del bucle. En este ejemplo, `continue` se ejecutará cuando la variable del bucle `asset` sea igual a `\"desktop20\"`. Puedes ejecutar este código para observar cómo difiere esta salida del ejemplo anterior con `break`:\n"
   ]
  },
  {
   "cell_type": "code",
   "execution_count": null,
   "metadata": {},
   "outputs": [],
   "source": [
    "computer_assets = [\"laptop1\", \"desktop20\", \"smartphone03\"]\n",
    "for asset in computer_assets:\n",
    "    if asset == \"desktop20\":\n",
    "        continue\n",
    "    print(asset)"
   ]
  },
  {
   "cell_type": "markdown",
   "metadata": {},
   "source": [
    "El valor `\"desktop20\"` en la segunda iteración no se imprime. Sin embargo, en este caso, el bucle continúa a la siguiente iteración y se imprime `\"smartphone03\"`. \n",
    "\n",
    "Bucles infinitos\n",
    "Un bucle que no se detiene se denomina bucle infinito. Si lo creas, debes presionar `CTRL-C` O `CTRL-Z` en tu teclado para detenerlo. Es posible que necesites hacer esto al ejecutar un servicio que procesa datos constantemente, como un servidor web."
   ]
  }
 ],
 "metadata": {
  "kernelspec": {
   "display_name": "Python 3",
   "language": "python",
   "name": "python3"
  },
  "language_info": {
   "codemirror_mode": {
    "name": "ipython",
    "version": 3
   },
   "file_extension": ".py",
   "mimetype": "text/x-python",
   "name": "python",
   "nbconvert_exporter": "python",
   "pygments_lexer": "ipython3",
   "version": "3.11.9"
  }
 },
 "nbformat": 4,
 "nbformat_minor": 2
}
